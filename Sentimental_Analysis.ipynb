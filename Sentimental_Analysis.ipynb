{
 "cells": [
  {
   "cell_type": "markdown",
   "metadata": {},
   "source": [
    "# To Analyze how travelers expressed their feelings on Twitter.\n",
    "- Only demonstrating a part of a project not the full implementation.\n"
   ]
  },
  {
   "cell_type": "markdown",
   "metadata": {},
   "source": [
    "# Import modules and create spark session"
   ]
  },
  {
   "cell_type": "code",
   "execution_count": 1,
   "metadata": {},
   "outputs": [],
   "source": [
    "# create spark context \n",
    "from pyspark import SparkContext\n",
    "sc = SparkContext(master = \"local\")\n",
    "                  \n",
    "# initialize the Spark Session\n",
    "from pyspark.sql import SparkSession\n",
    "\n",
    "#create Spark session\n",
    "spark = SparkSession.builder \\\n",
    "    .master(\"local\") \\\n",
    "    .appName(\"Sentiment Analysis in pySpark\") \\\n",
    "    .config(\"spark.some.config.option\", \"some-value\") \\\n",
    "    .getOrCreate()"
   ]
  },
  {
   "cell_type": "markdown",
   "metadata": {},
   "source": [
    "## Reading Data file into Spark DataFrame"
   ]
  },
  {
   "cell_type": "code",
   "execution_count": 2,
   "metadata": {},
   "outputs": [
    {
     "name": "stdout",
     "output_type": "stream",
     "text": [
      "root\n",
      " |-- tweet_id: string (nullable = true)\n",
      " |-- airline_sentiment: string (nullable = true)\n",
      " |-- airline_sentiment_confidence: string (nullable = true)\n",
      " |-- negativereason: string (nullable = true)\n",
      " |-- negativereason_confidence: string (nullable = true)\n",
      " |-- airline: string (nullable = true)\n",
      " |-- airline_sentiment_gold: string (nullable = true)\n",
      " |-- name: string (nullable = true)\n",
      " |-- negativereason_gold: string (nullable = true)\n",
      " |-- retweet_count: integer (nullable = true)\n",
      " |-- text: string (nullable = true)\n",
      " |-- tweet_coord: string (nullable = true)\n",
      " |-- tweet_created: string (nullable = true)\n",
      " |-- tweet_location: string (nullable = true)\n",
      " |-- user_timezone: string (nullable = true)\n",
      "\n"
     ]
    }
   ],
   "source": [
    "# --- reading data via Spark\n",
    "df = spark.read.csv(\"./*.csv\", inferSchema = True, header = True, sep=\",\")\n",
    "df.printSchema()\n"
   ]
  },
  {
   "cell_type": "raw",
   "metadata": {},
   "source": [
    "df.head(3)"
   ]
  },
  {
   "cell_type": "code",
   "execution_count": 3,
   "metadata": {},
   "outputs": [],
   "source": [
    "df = df.na.drop(subset=[\"airline_sentiment\",\"airline\",\"text\"])"
   ]
  },
  {
   "cell_type": "code",
   "execution_count": 4,
   "metadata": {},
   "outputs": [],
   "source": [
    "from pyspark.sql.functions import col, expr, when\n",
    "df = df.withColumn('airline_sentiment', when(col('airline_sentiment')=='positive', 2)\n",
    "                .when(col('airline_sentiment')=='negative',0)\n",
    "              .otherwise(1))\n"
   ]
  },
  {
   "cell_type": "markdown",
   "metadata": {},
   "source": [
    "## Select the related data"
   ]
  },
  {
   "cell_type": "code",
   "execution_count": 5,
   "metadata": {},
   "outputs": [
    {
     "name": "stdout",
     "output_type": "stream",
     "text": [
      "+-----+----------------------------------------------------------------------------------------------------------------------------------+\n",
      "|label|text                                                                                                                              |\n",
      "+-----+----------------------------------------------------------------------------------------------------------------------------------+\n",
      "|1    |@VirginAmerica What @dhepburn said.                                                                                               |\n",
      "|2    |@VirginAmerica plus you've added commercials to the experience... tacky.                                                          |\n",
      "|1    |@VirginAmerica I didn't today... Must mean I need to take another trip!                                                           |\n",
      "|0    |\"@VirginAmerica it's really aggressive to blast obnoxious \"\"entertainment\"\" in your guests' faces &amp; they have little recourse\"|\n",
      "|0    |@VirginAmerica and it's a really big bad thing about it                                                                           |\n",
      "+-----+----------------------------------------------------------------------------------------------------------------------------------+\n",
      "only showing top 5 rows\n",
      "\n"
     ]
    }
   ],
   "source": [
    "# --- select only \"text\" and \"airline_sentiment\" column, \n",
    "# --- and cast \"airline_sentiment\" column data into integer\n",
    "data = df.select(col(\"airline_sentiment\").cast(\"Int\").alias(\"label\"),\"text\")\n",
    "data.show(truncate = False,n=5)"
   ]
  },
  {
   "cell_type": "code",
   "execution_count": 6,
   "metadata": {},
   "outputs": [
    {
     "name": "stdout",
     "output_type": "stream",
     "text": [
      "root\n",
      " |-- label: integer (nullable = false)\n",
      " |-- text: string (nullable = true)\n",
      "\n"
     ]
    }
   ],
   "source": [
    "data.printSchema()"
   ]
  },
  {
   "cell_type": "markdown",
   "metadata": {},
   "source": [
    "### Divided the data into training and testing"
   ]
  },
  {
   "cell_type": "code",
   "execution_count": 7,
   "metadata": {},
   "outputs": [],
   "source": [
    "# #divide data, 70% for training, 30% for testing\n",
    "# dividedData = data.randomSplit([0.7, 0.3]) \n",
    "# trainingData = dividedData[0] #index 0 = data training\n",
    "# testingData = dividedData[1] #index 1 = data testing"
   ]
  },
  {
   "cell_type": "code",
   "execution_count": 8,
   "metadata": {},
   "outputs": [],
   "source": [
    "# trainingData.write.csv('train.csv')\n",
    "# testingData.write.csv('test.csv')"
   ]
  },
  {
   "cell_type": "markdown",
   "metadata": {},
   "source": [
    "# Importing MLlib: RDD-based API and all required lib."
   ]
  },
  {
   "cell_type": "code",
   "execution_count": 9,
   "metadata": {},
   "outputs": [],
   "source": [
    "from pyspark.mllib.feature import HashingTF\n",
    "from pyspark.mllib.feature import IDF\n",
    "from pyspark.mllib.classification import NaiveBayes, NaiveBayesModel\n",
    "from pyspark.mllib.linalg import Vectors\n",
    "from pyspark.mllib.regression import LabeledPoint\n",
    "from pyspark.mllib.classification import LogisticRegressionWithLBFGS, LogisticRegressionModel\n",
    "from pyspark.mllib.tree import DecisionTree, DecisionTreeModel\n",
    "from pyspark.mllib.evaluation import BinaryClassificationMetrics\n",
    "from pyspark.mllib.evaluation import MulticlassMetrics\n",
    "from pyspark.mllib.feature import ChiSqSelector\n",
    "\n",
    "import matplotlib.pyplot as plt; plt.rcdefaults()\n",
    "import numpy as np\n",
    "import os, tempfile\n",
    "import csv\n",
    "import string\n",
    "import random"
   ]
  },
  {
   "cell_type": "markdown",
   "metadata": {},
   "source": [
    "## Data Cleaning"
   ]
  },
  {
   "cell_type": "code",
   "execution_count": 10,
   "metadata": {},
   "outputs": [],
   "source": [
    "# --- function to remove stop words\n",
    "def remove_values_from_list(the_list, val):\n",
    "    return [value for value in the_list if value != val]\n",
    "\n",
    "# --- function to handle numbers, single characters URL's and @Username\n",
    "# --- Cleaning data\n",
    "\n",
    "def clean(filename):\n",
    "    text=open(filename, encoding='ISO-8859-1')\n",
    "    file_reader = csv.reader(text)\n",
    "    clean_final=[]\n",
    "    c=0\n",
    "    stop=['i', 'me', 'my', 'myself', 'we', 'our', 'ours', 'ourselves', 'you', 'your', 'yours', 'yourself', 'yourselves', 'he', 'him', 'his', 'himself', 'she', 'her', 'hers', 'herself', 'it', 'its', 'itself', 'they', 'them', 'their', 'theirs', 'themselves', 'what', 'which', 'who', 'whom', 'this', 'that', 'these', 'those', 'am', 'is', 'are', 'was', 'were', 'be', 'been', 'being', 'have', 'has', 'had', 'having', 'do', 'does', 'did', 'doing', 'a', 'an', 'the', 'and', 'but', 'if', 'or', 'because', 'as', 'until', 'while', 'of', 'at', 'by', 'for', 'with', 'about', 'against', 'between', 'into', 'through', 'during', 'before', 'after', 'above', 'below', 'to', 'from', 'up', 'down', 'in', 'out', 'on', 'off', 'over', 'under', 'again', 'further', 'then', 'once', 'here', 'there', 'when', 'where', 'why', 'how', 'all', 'any', 'both', 'each', 'few', 'more', 'most', 'other', 'some', 'such', 'no', 'nor', 'not', 'only', 'own', 'same', 'so', 'than', 'too', 'very', 's', 't', 'can', 'will', 'just', 'don', 'should', 'now']\n",
    "    shuffle=[]\n",
    "    tweet_list=[]\n",
    "    for row in file_reader:\n",
    "        temp_t=row[1]\n",
    "        ts=temp_t.split(\" \")\n",
    "        for w in range(1,len(ts)):\n",
    "            ts[w]=ts[w].lower()\n",
    "            if (ts[w]!='' and ts[w][0]=='@'):\n",
    "                ts[w]='AT_USER'\n",
    "            if (ts[w]!='' and len(ts[w])>4  and ts[w][0]=='w' and ts[w][1]=='w' and ts[w][2]=='w' and ts[w][3]=='.'):\n",
    "                ts[w]='URL'\n",
    "            if (ts[w]!='' and len(ts[w])>7  and ts[w][0]=='h' and ts[w][1]=='t' and ts[w][2]=='t' and ts[w][3]=='p' and\n",
    "                ts[w][4]==':' and ts[w][5]=='/' and ts[w][6]=='/'):\n",
    "                ts[w]='URL'\n",
    "            if (ts[w]!='' and len(ts[w])>8  and ts[w][0]=='h' and ts[w][1]=='t' and ts[w][2]=='t' and ts[w][3]=='p' and\n",
    "                ts[w][4]=='s' and ts[w][5]==':' and ts[w][6]=='/' and ts[w][7]=='/'):\n",
    "                ts[w]='URL'\n",
    "            for i in range(0,len(ts[w])):\n",
    "                flag=0\n",
    "                if len(ts[w])>i+2 and ts[w][i]==ts[w][i+1] and ts[w][i]==ts[w][i+2]:\n",
    "                    for j in range(i+2,len(ts[w])):\n",
    "                        if ts[w][i]==ts[w][j]:\n",
    "                            flag=1\n",
    "                            if len(ts[w])>j+1 and ts[w][i]!=ts[w][j+1]:\n",
    "                                break\n",
    "                        if j==(len(ts[w]))-1 and ts[w][i]==ts[w][j]:\n",
    "                            flag=1\n",
    "                            break\n",
    "                    if flag==1:\n",
    "                        ts[w]=ts[w].replace(ts[w][i:j+1],ts[w][i])\n",
    "            if (ts[w]!='' and ts[w][0].isdigit()):\n",
    "                ts[w]=''\n",
    "        for i in range(0,len(stop)):\n",
    "            if stop[i] in ts:\n",
    "                ts = remove_values_from_list(ts, stop[i])\n",
    "        cleaned_list=[word.strip(string.punctuation) for word in ts]\n",
    "        while '' in cleaned_list:\n",
    "            cleaned_list.remove('')\n",
    "        clean_final.append(cleaned_list)\n",
    "        shuffle.append([row[0],cleaned_list])\n",
    "        tweet_list.append(row[1])\n",
    "    return (shuffle,tweet_list)"
   ]
  },
  {
   "cell_type": "markdown",
   "metadata": {},
   "source": [
    "### Processed data for training "
   ]
  },
  {
   "cell_type": "code",
   "execution_count": 11,
   "metadata": {},
   "outputs": [],
   "source": [
    "# Replace the path of train.csv in the \"_____\"    \n",
    "train_shuffle,train_tweet_list=clean(\"train.csv/part-00000-0c2be565-64f3-483f-a8fd-2d14ac0f34df-c000.csv\")"
   ]
  },
  {
   "cell_type": "markdown",
   "metadata": {},
   "source": [
    "### Processed data for testing "
   ]
  },
  {
   "cell_type": "code",
   "execution_count": 12,
   "metadata": {},
   "outputs": [],
   "source": [
    "#test on test.csv(reading test.csv and classifying)\n",
    "# Replace the path of test.csv in the \"_____\"\n",
    "test_shuffle,test_tweet_list=clean(\"test.csv/part-00000-c88a2743-382f-42bf-a7fd-45a1a534c8a0-c000.csv\")"
   ]
  },
  {
   "cell_type": "markdown",
   "metadata": {},
   "source": [
    "## TF-IDF functions "
   ]
  },
  {
   "cell_type": "code",
   "execution_count": 13,
   "metadata": {},
   "outputs": [],
   "source": [
    "#Compute TF\n",
    "def CompTF(tshuffle_rdd):\n",
    "    t_rdd=sc.parallelize([row[1] for row in tshuffle_rdd.collect()])\n",
    "    hashingTF = HashingTF(50000)\n",
    "    tf = hashingTF.transform(t_rdd)\n",
    "    return tf\n",
    "def CompTF_withNumFeatures(tshuffle_rdd):\n",
    "    t_rdd=sc.parallelize([row[1] for row in tshuffle_rdd.collect()])\n",
    "    hashingTF = HashingTF(1500)\n",
    "    tf = hashingTF.transform(t_rdd)\n",
    "    return tf\n",
    "#Compute IDF\n",
    "def CompIDF(tf):\n",
    "    tf.cache()\n",
    "    idf = IDF().fit(tf)\n",
    "    return idf\n",
    "#Compute TFIDF\n",
    "def CompTFIDF(tf,idf):\n",
    "    tfidf = idf.transform(tf)\n",
    "    return tfidf\n"
   ]
  },
  {
   "cell_type": "code",
   "execution_count": 14,
   "metadata": {},
   "outputs": [],
   "source": [
    "#Feature Extraction\n",
    "def Convert_to_LabeledPoint(labels,features):\n",
    "    training = labels.zip(features).map(lambda x: LabeledPoint(x[0], x[1]))\n",
    "    return training"
   ]
  },
  {
   "cell_type": "markdown",
   "metadata": {},
   "source": [
    "## Training Algorithms "
   ]
  },
  {
   "cell_type": "code",
   "execution_count": 15,
   "metadata": {},
   "outputs": [],
   "source": [
    "# --- Naive Bayes\n",
    "#Training - NB\n",
    "def NB_train(training):\n",
    "    model = NaiveBayes.train(training)\n",
    "    return model\n",
    "\n",
    "# --- Logistic Regression\n",
    "#Training - LG\n",
    "def LG_train(training):\n",
    "    model = LogisticRegressionWithLBFGS.train(training,numClasses=3)\n",
    "    return model\n",
    "\n",
    "\n",
    "# --- Decision Trees\n",
    "#Training - DT\n",
    "def DT_train(training):\n",
    "    model = DecisionTree.trainClassifier(training, numClasses=3, categoricalFeaturesInfo={},\n",
    "                                        impurity='gini', maxDepth=5, maxBins=32)\n",
    "    return model"
   ]
  },
  {
   "cell_type": "code",
   "execution_count": 16,
   "metadata": {},
   "outputs": [],
   "source": [
    "#Testing\n",
    "def test(model,labels,features):\n",
    "    labels_and_preds = labels.zip(model.predict(features)).map(\n",
    "                                lambda x: {\"actual\": float(x[0]), \"predicted\": float(x[1])})\n",
    "    acc=100.0*((labels_and_preds.filter(lambda x:x[\"actual\"]==x[\"predicted\"]).count()) / (labels.count()))\n",
    "    return acc\n",
    "\n",
    "#Testing with pred prob\n",
    "def test_wpp(model,labels,features):\n",
    "    labels_and_probs = labels.zip(model.predict(features)).map(\n",
    "                                lambda x: {\"actual\": float(x[0]), \"probs\": float(x[1])})\n",
    "    return labels_and_probs\n",
    "    \n",
    "#Final Test\n",
    "def test_final(model,labels,features):\n",
    "    labels_and_preds = labels.zip(model.predict(features)).map(\n",
    "                                lambda x: {\"actual\": float(x[0]), \"predicted\": float(x[1])})\n",
    "    acc=100.0*((labels_and_preds.filter(lambda x:x[\"actual\"]==x[\"predicted\"]).count()) / (labels.count()))\n",
    "    return (labels_and_preds,acc)\n"
   ]
  },
  {
   "cell_type": "code",
   "execution_count": 17,
   "metadata": {},
   "outputs": [],
   "source": [
    "# tpr and fpr\n",
    "def tf(labels_and_preds):\n",
    "    true_pos = (labels_and_preds.filter(lambda x:x[\"predicted\"]==1 and x[\"actual\"]==1).count())\n",
    "    true_neg = (labels_and_preds.filter(lambda x:x[\"predicted\"]==0 and x[\"actual\"]==0).count())\n",
    "    false_pos = (labels_and_preds.filter(lambda x:x[\"predicted\"]==1 and x[\"actual\"]==0).count())\n",
    "    false_neg = (labels_and_preds.filter(lambda x:x[\"predicted\"]==0 and x[\"actual\"]==1).count())\n",
    "\n",
    "    tpr=(true_pos)/(true_pos+false_neg)\n",
    "    fpr=(false_pos)/(false_pos+true_neg)\n",
    "    return (tpr,fpr)"
   ]
  },
  {
   "cell_type": "markdown",
   "metadata": {},
   "source": [
    "## Spliting the training data for Cross-Validation"
   ]
  },
  {
   "cell_type": "code",
   "execution_count": 18,
   "metadata": {},
   "outputs": [],
   "source": [
    "random.shuffle(train_shuffle)\n",
    "tshuff_rdd_train=sc.parallelize(train_shuffle)\n",
    "p=tshuff_rdd_train.randomSplit(weights=[0.1, 0.1, 0.1, 0.1, 0.1, 0.1, 0.1, 0.1, 0.1, 0.1], seed=1)\n"
   ]
  },
  {
   "cell_type": "markdown",
   "metadata": {},
   "source": [
    "## Applying Logistic Regression "
   ]
  },
  {
   "cell_type": "markdown",
   "metadata": {},
   "source": [
    "### 1. Training"
   ]
  },
  {
   "cell_type": "code",
   "execution_count": 19,
   "metadata": {},
   "outputs": [
    {
     "name": "stdout",
     "output_type": "stream",
     "text": [
      "(0.0,(50000,[979,1709,9485,13294,13785,14325,19611,20311,24093,27012,33856,39589,41115,44824,46593],[1.827842758390725,5.051629581465553,6.923431758367145,4.005661026282866,3.1857621400837766,7.8397224902413,8.12740456269308,3.942813122623202,4.991910346763931,3.841521788572101,3.7085639548964826,3.41487585838449,5.13167228913909,4.005661026282866,4.114029063004647]))\n",
      "\n",
      " TRAINING ACCURACY:-\n",
      "\n",
      "The accuracy for the training dataset tested on the training data itself using Logistic Regression is 99.20252042926062 %\n",
      "\n",
      "\n",
      "CPU times: user 365 ms, sys: 62 ms, total: 427 ms\n",
      "Wall time: 19.2 s\n"
     ]
    }
   ],
   "source": [
    "%%time\n",
    "# Accuracy of Training data using train.csv itself using LG\n",
    "tf_train=CompTF(tshuff_rdd_train)\n",
    "idf_train=CompIDF(tf_train)\n",
    "tfidf_train=CompTFIDF(tf_train,idf_train)\n",
    "training = Convert_to_LabeledPoint(sc.parallelize([row[0] for row in tshuff_rdd_train.collect()]),tfidf_train)\n",
    "\n",
    "print(training.first())\n",
    "\n",
    "model_train_LG=LG_train(training)\n",
    "accuracy=test(model_train_LG,sc.parallelize([row[0] for row in tshuff_rdd_train.collect()]),tfidf_train)\n",
    "#accuracy_LG=test(model_train_LG,sc.parallelize([row[0] for row in tshuff_rdd_train.collect()]),tfidf_train)\n",
    "print (\"\\n TRAINING ACCURACY:-\\n\")\n",
    "print(\"The accuracy for the training dataset tested on the training data itself using Logistic Regression is\",accuracy,\"%\")\n",
    "print (\"\\n\")"
   ]
  },
  {
   "cell_type": "markdown",
   "metadata": {},
   "source": [
    "### 2. Validation using K Fold Cross Validation"
   ]
  },
  {
   "cell_type": "code",
   "execution_count": 20,
   "metadata": {},
   "outputs": [
    {
     "name": "stdout",
     "output_type": "stream",
     "text": [
      "10-FOLD CV ACCURACIES FOR ALL ITERATIONS\n",
      "\n",
      "The accuracy for number 1 kth partition test for 10-fold cross validation for LG is 65.92065106815869 %\n",
      "The accuracy for number 2 kth partition test for 10-fold cross validation for LG is 68.75612144955926 %\n",
      "The accuracy for number 3 kth partition test for 10-fold cross validation for LG is 68.3223992502343 %\n",
      "The accuracy for number 4 kth partition test for 10-fold cross validation for LG is 68.40607210626186 %\n",
      "The accuracy for number 5 kth partition test for 10-fold cross validation for LG is 69.17599186164801 %\n",
      "The accuracy for number 6 kth partition test for 10-fold cross validation for LG is 68.35820895522387 %\n",
      "The accuracy for number 7 kth partition test for 10-fold cross validation for LG is 70.03089598352214 %\n",
      "The accuracy for number 8 kth partition test for 10-fold cross validation for LG is 72.37093690248567 %\n",
      "The accuracy for number 9 kth partition test for 10-fold cross validation for LG is 68.03519061583577 %\n",
      "The accuracy for number 10 kth partition test for 10-fold cross validation for LG is 67.43027888446214 %\n",
      "\n",
      "\n",
      "The average accuracy for LG after 10-fold cross validation is 99.20252042926062 %\n",
      "\n",
      "\n",
      "The highest accuracy for LG after 10-fold cross validation is 99.20252042926062 %\n",
      "\n",
      "\n",
      "CPU times: user 3.14 s, sys: 601 ms, total: 3.74 s\n",
      "Wall time: 2min 1s\n"
     ]
    }
   ],
   "source": [
    "%%time\n",
    "# KFold Logistic Regression\n",
    "print (\"10-FOLD CV ACCURACIES FOR ALL ITERATIONS\\n\")\n",
    "tot_LG_kfold=0\n",
    "LG_kfold_set=[]\n",
    "for i in range(0,len(p)):\n",
    "    test_RDD=p[i]\n",
    "    train_tempRDD=sc.emptyRDD()\n",
    "    for j in range(0,len(p)):\n",
    "        if i!=j:\n",
    "            train_tempRDD=train_tempRDD.union(p[j])\n",
    "    tf_train=CompTF(train_tempRDD)\n",
    "    idf_train=CompIDF(tf_train)\n",
    "    tfidf_train=CompTFIDF(tf_train,idf_train)\n",
    "    training = Convert_to_LabeledPoint(sc.parallelize([row[0] for row in train_tempRDD.collect()]),tfidf_train)\n",
    "    model_train=LG_train(training)\n",
    "    tf_test=CompTF(test_RDD)\n",
    "    tfidf_test=CompTFIDF(tf_test,idf_train)\n",
    "    accuracy_LG=test(model_train,sc.parallelize([row[0] for row in test_RDD.collect()]),tfidf_test)\n",
    "    print (\"The accuracy for number\",i+1,\"kth partition test for 10-fold cross validation for LG is\",accuracy_LG,\"%\")\n",
    "    tot_LG_kfold=tot_LG_kfold+accuracy\n",
    "    LG_kfold_set.append(accuracy)\n",
    "avg_LG_kfold=tot_LG_kfold/len(p)\n",
    "LG_kfold_best=max(LG_kfold_set)\n",
    "print (\"\\n\")\n",
    "print (\"The average accuracy for LG after 10-fold cross validation is\",avg_LG_kfold,\"%\")\n",
    "print (\"\\n\")\n",
    "print (\"The highest accuracy for LG after 10-fold cross validation is\",LG_kfold_best,\"%\")\n",
    "print (\"\\n\")"
   ]
  },
  {
   "cell_type": "markdown",
   "metadata": {},
   "source": [
    "### 3. Testing the model on the test dataset."
   ]
  },
  {
   "cell_type": "code",
   "execution_count": 21,
   "metadata": {},
   "outputs": [
    {
     "name": "stdout",
     "output_type": "stream",
     "text": [
      "\n",
      "TEST ACCURACY:-\n",
      "\n",
      "The accuracy of prediction for LG on testing data is 68.47996418177748 %\n",
      "\n",
      "\n",
      "CPU times: user 236 ms, sys: 45.3 ms, total: 282 ms\n",
      "Wall time: 1.35 s\n"
     ]
    }
   ],
   "source": [
    "%%time\n",
    "tshuff_rdd_test=sc.parallelize(test_shuffle)\n",
    "tf_test=CompTF(tshuff_rdd_test)\n",
    "tf_train=CompTF(tshuff_rdd_train)\n",
    "idf_train=CompIDF(tf_train)\n",
    "tfidf_test=CompTFIDF(tf_test,idf_train)\n",
    "\n",
    "labels_and_preds_LG,accu_LG = test_final(model_train_LG,sc.parallelize([row[0] for row in tshuff_rdd_test.collect()]),tfidf_test)\n",
    "\n",
    "print (\"\\nTEST ACCURACY:-\\n\")\n",
    "print(\"The accuracy of prediction for LG on testing data is\",accu_LG,\"%\")\n",
    "print (\"\\n\")"
   ]
  },
  {
   "cell_type": "markdown",
   "metadata": {},
   "source": [
    "### 4. Ploting different accuracies "
   ]
  },
  {
   "cell_type": "code",
   "execution_count": 22,
   "metadata": {},
   "outputs": [
    {
     "data": {
      "image/png": "[encoded data removed]",
      "text/plain": [
       "<Figure size 640x480 with 1 Axes>"
      ]
     },
     "metadata": {},
     "output_type": "display_data"
    }
   ],
   "source": [
    "objects = ('Training Accuracy', '10-Fold CV', 'Testing Accuracy')\n",
    "y_pos = np.arange(len(objects))\n",
    "performance = [accuracy_LG,avg_LG_kfold,accu_LG]\n",
    "plt.bar(y_pos, performance, align='center', alpha=0.5)\n",
    "plt.xticks(y_pos, objects)\n",
    "plt.xlabel('Classifications')\n",
    "plt.ylabel('Accuracy')\n",
    "plt.title('Logistic Regression Classifier - Accuracies') \n",
    "plt.show()"
   ]
  },
  {
   "cell_type": "markdown",
   "metadata": {},
   "source": [
    "### 5. Model Summary - Confussion metrics"
   ]
  },
  {
   "cell_type": "code",
   "execution_count": 23,
   "metadata": {},
   "outputs": [
    {
     "name": "stdout",
     "output_type": "stream",
     "text": [
      "\n",
      "Summary Stats_LG\n",
      "\n",
      "Class 0 precision_LG = 0.7994942196531792\n",
      "Class 0 recall_LG = 0.7946140035906643\n",
      "Class 0 F1 Measure_NB = 0.7970466414550693\n",
      "Class 1 precision_LG = 0.4359504132231405\n",
      "Class 1 recall_LG = 0.4494142705005325\n",
      "Class 1 F1 Measure_NB = 0.44257996853696907\n",
      "Class 2 precision_LG = 0.5800273597811217\n",
      "Class 2 recall_LG = 0.5706594885598923\n",
      "Class 2 F1 Measure_NB = 0.5753052917232022\n",
      "\n",
      "\n",
      "Avg/Weighted recall_LG = 0.6847996418177748\n",
      "Avg/Weighted precision_LG = 0.6865702189541094\n",
      "Avg/Weighted F(1) Score_LG = 0.6856524107138843\n",
      "\n",
      "Confusion matrix_LG=\n",
      "[[2213.  398.  174.]\n",
      " [ 384.  422.  133.]\n",
      " [ 171.  148.  424.]]\n",
      "\n",
      "\n",
      "\n"
     ]
    }
   ],
   "source": [
    "metrics = MulticlassMetrics(labels_and_preds_LG.map(lambda x: (x[\"predicted\"], x[\"actual\"])))\n",
    "# Model summary \n",
    "print(\"\\nSummary Stats_LG\\n\")\n",
    "labels = (sc.parallelize([row[0] for row in tshuff_rdd_test.collect()])).distinct().collect()\n",
    "for label in sorted(labels):\n",
    "    print(\"Class %s precision_LG = %s\" % (label, metrics.precision(label)))\n",
    "    print(\"Class %s recall_LG = %s\" % (label, metrics.recall(label)))\n",
    "    print(\"Class %s F1 Measure_NB = %s\" % (label, metrics.fMeasure(float(label), beta=1.0)))\n",
    "# Model Weighted Stats \n",
    "print(\"\\n\\nAvg/Weighted recall_LG = %s\" % metrics.weightedRecall)\n",
    "print(\"Avg/Weighted precision_LG = %s\" % metrics.weightedPrecision)\n",
    "print(\"Avg/Weighted F(1) Score_LG = %s\" % metrics.weightedFMeasure())\n",
    "\n",
    "cm=metrics.confusionMatrix().toArray()\n",
    "print(\"\\nConfusion matrix_LG=\")\n",
    "print(cm)\n",
    "print(\"\\n\\n\")"
   ]
  },
  {
   "cell_type": "markdown",
   "metadata": {},
   "source": [
    "### 6. ROC Curve and AUC"
   ]
  },
  {
   "cell_type": "code",
   "execution_count": 24,
   "metadata": {},
   "outputs": [
    {
     "name": "stdout",
     "output_type": "stream",
     "text": [
      "Area under ROC_Logistic_Regression = 0.7454008756780528\n"
     ]
    },
    {
     "data": {
      "image/png": "[encoded data removed]",
      "text/plain": [
       "<Figure size 640x480 with 1 Axes>"
      ]
     },
     "metadata": {},
     "output_type": "display_data"
    }
   ],
   "source": [
    "model_train_LG.setThreshold(0.25)\n",
    "labels_and_preds_LG2,accu_LG2 = test_final(model_train_LG,sc.parallelize([row[0] for row in tshuff_rdd_test.collect()]),tfidf_test)\n",
    "model_train_LG.setThreshold(0.75)\n",
    "labels_and_preds_LG3,accu_LG3 = test_final(model_train_LG,sc.parallelize([row[0] for row in tshuff_rdd_test.collect()]),tfidf_test)\n",
    "model_train_LG.setThreshold(0.1)\n",
    "labels_and_preds_LG4,accu_LG4 = test_final(model_train_LG,sc.parallelize([row[0] for row in tshuff_rdd_test.collect()]),tfidf_test)\n",
    "model_train_LG.setThreshold(0.9)\n",
    "labels_and_preds_LG5,accu_LG5 = test_final(model_train_LG,sc.parallelize([row[0] for row in tshuff_rdd_test.collect()]),tfidf_test)\n",
    "\n",
    "tpr,fpr=tf(labels_and_preds_LG) \n",
    "tpr2,fpr2=tf(labels_and_preds_LG2) \n",
    "tpr3,fpr3=tf(labels_and_preds_LG3)\n",
    "tpr4,fpr4=tf(labels_and_preds_LG4) \n",
    "tpr5,fpr5=tf(labels_and_preds_LG5) \n",
    "\n",
    "x = [0,fpr5,fpr3,fpr,fpr2,fpr4,1]\n",
    "y = [0,tpr5,tpr3,tpr,tpr2,tpr4,1]\n",
    "\n",
    "# This is the ROC curve\n",
    "x1=[0,1]\n",
    "y1=[0,1]\n",
    "plt.xlabel('False Positive Rate')\n",
    "plt.ylabel('True Positive Rate')\n",
    "plt.title('ROC Curve - Logistic Regression')\n",
    "plt.plot(x1,y1)\n",
    "plt.plot(x,y)\n",
    "\n",
    "metrics2 = BinaryClassificationMetrics(labels_and_preds_LG.map(lambda x: (x[\"predicted\"], x[\"actual\"])))\n",
    "model_train_LG.clearThreshold()\n",
    "labels_and_probs_LG=test_wpp(model_train_LG,sc.parallelize([row[0] for row in tshuff_rdd_test.collect()]),tfidf_test)\n",
    "metrics = MulticlassMetrics(labels_and_preds_LG.map(lambda x: (x[\"predicted\"], x[\"actual\"])))\n",
    "# Area under ROC curve\n",
    "print(\"Area under ROC_Logistic_Regression = %s\" % metrics2.areaUnderROC)\n",
    "plt.show()"
   ]
  },
  {
   "cell_type": "code",
   "execution_count": null,
   "metadata": {},
   "outputs": [],
   "source": []
  }
 ],
 "metadata": {
  "kernelspec": {
   "display_name": "Python 3",
   "language": "python",
   "name": "python3"
  },
  "language_info": {
   "codemirror_mode": {
    "name": "ipython",
    "version": 3
   },
   "file_extension": ".py",
   "mimetype": "text/x-python",
   "name": "python",
   "nbconvert_exporter": "python",
   "pygments_lexer": "ipython3",
   "version": "3.7.6"
  }
 },
 "nbformat": 4,
 "nbformat_minor": 4
}
