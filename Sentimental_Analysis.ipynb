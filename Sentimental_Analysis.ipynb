{
 "cells": [
  {
   "cell_type": "markdown",
   "metadata": {},
   "source": [
    "# To Analyze how travelers expressed their feelings on Twitter."
   ]
  },
  {
   "cell_type": "markdown",
   "metadata": {},
   "source": [
    "# Import modules and create spark session"
   ]
  },
  {
   "cell_type": "code",
   "execution_count": 1,
   "metadata": {},
   "outputs": [],
   "source": [
    "# create spark context \n",
    "from pyspark import SparkContext\n",
    "sc = SparkContext(master = \"local\")\n",
    "                  \n",
    "# initialize the Spark Session\n",
    "from pyspark.sql import SparkSession\n",
    "\n",
    "#create Spark session\n",
    "spark = SparkSession.builder \\\n",
    "    .master(\"local\") \\\n",
    "    .appName(\"Sentiment Analysis in pySpark\") \\\n",
    "    .config(\"spark.some.config.option\", \"some-value\") \\\n",
    "    .getOrCreate()"
   ]
  },
  {
   "cell_type": "markdown",
   "metadata": {},
   "source": [
    "## Reading Data file into Spark DataFrame"
   ]
  },
  {
   "cell_type": "code",
   "execution_count": 2,
   "metadata": {},
   "outputs": [
    {
     "name": "stdout",
     "output_type": "stream",
     "text": [
      "root\n",
      " |-- tweet_id: string (nullable = true)\n",
      " |-- airline_sentiment: string (nullable = true)\n",
      " |-- airline_sentiment_confidence: string (nullable = true)\n",
      " |-- negativereason: string (nullable = true)\n",
      " |-- negativereason_confidence: string (nullable = true)\n",
      " |-- airline: string (nullable = true)\n",
      " |-- airline_sentiment_gold: string (nullable = true)\n",
      " |-- name: string (nullable = true)\n",
      " |-- negativereason_gold: string (nullable = true)\n",
      " |-- retweet_count: integer (nullable = true)\n",
      " |-- text: string (nullable = true)\n",
      " |-- tweet_coord: string (nullable = true)\n",
      " |-- tweet_created: string (nullable = true)\n",
      " |-- tweet_location: string (nullable = true)\n",
      " |-- user_timezone: string (nullable = true)\n",
      "\n"
     ]
    }
   ],
   "source": [
    "# --- reading data via Spark\n",
    "df = spark.read.csv(\"./*.csv\", inferSchema = True, header = True, sep=\",\")\n",
    "df.printSchema()\n"
   ]
  },
  {
   "cell_type": "raw",
   "metadata": {},
   "source": [
    "df.head(3)"
   ]
  },
  {
   "cell_type": "code",
   "execution_count": 3,
   "metadata": {},
   "outputs": [],
   "source": [
    "df = df.na.drop(subset=[\"airline_sentiment\",\"airline\",\"text\"])"
   ]
  },
  {
   "cell_type": "code",
   "execution_count": 4,
   "metadata": {},
   "outputs": [],
   "source": [
    "from pyspark.sql.functions import col, expr, when\n",
    "df = df.withColumn('airline_sentiment', when(col('airline_sentiment')=='positive', 2)\n",
    "                .when(col('airline_sentiment')=='negative',0)\n",
    "              .otherwise(1))\n"
   ]
  },
  {
   "cell_type": "markdown",
   "metadata": {},
   "source": [
    "## Select the related data"
   ]
  },
  {
   "cell_type": "code",
   "execution_count": 5,
   "metadata": {},
   "outputs": [
    {
     "name": "stdout",
     "output_type": "stream",
     "text": [
      "+-----+----------------------------------------------------------------------------------------------------------------------------------+\n",
      "|label|text                                                                                                                              |\n",
      "+-----+----------------------------------------------------------------------------------------------------------------------------------+\n",
      "|1    |@VirginAmerica What @dhepburn said.                                                                                               |\n",
      "|2    |@VirginAmerica plus you've added commercials to the experience... tacky.                                                          |\n",
      "|1    |@VirginAmerica I didn't today... Must mean I need to take another trip!                                                           |\n",
      "|0    |\"@VirginAmerica it's really aggressive to blast obnoxious \"\"entertainment\"\" in your guests' faces &amp; they have little recourse\"|\n",
      "|0    |@VirginAmerica and it's a really big bad thing about it                                                                           |\n",
      "+-----+----------------------------------------------------------------------------------------------------------------------------------+\n",
      "only showing top 5 rows\n",
      "\n"
     ]
    }
   ],
   "source": [
    "# --- select only \"text\" and \"airline_sentiment\" column, \n",
    "# --- and cast \"airline_sentiment\" column data into integer\n",
    "data = df.select(col(\"airline_sentiment\").cast(\"Int\").alias(\"label\"),\"text\")\n",
    "data.show(truncate = False,n=5)"
   ]
  },
  {
   "cell_type": "code",
   "execution_count": 6,
   "metadata": {},
   "outputs": [
    {
     "name": "stdout",
     "output_type": "stream",
     "text": [
      "root\n",
      " |-- label: integer (nullable = false)\n",
      " |-- text: string (nullable = true)\n",
      "\n"
     ]
    }
   ],
   "source": [
    "data.printSchema()"
   ]
  },
  {
   "cell_type": "markdown",
   "metadata": {},
   "source": [
    "### Divided the data into training and testing"
   ]
  },
  {
   "cell_type": "code",
   "execution_count": 7,
   "metadata": {},
   "outputs": [],
   "source": [
    "# #divide data, 70% for training, 30% for testing\n",
    "# dividedData = data.randomSplit([0.7, 0.3]) \n",
    "# trainingData = dividedData[0] #index 0 = data training\n",
    "# testingData = dividedData[1] #index 1 = data testing"
   ]
  },
  {
   "cell_type": "code",
   "execution_count": 74,
   "metadata": {},
   "outputs": [],
   "source": [
    "# trainingData.write.csv('train.csv')\n",
    "# testingData.write.csv('test.csv')"
   ]
  },
  {
   "cell_type": "markdown",
   "metadata": {},
   "source": [
    "# Importing MLlib: RDD-based API and all required lib."
   ]
  },
  {
   "cell_type": "code",
   "execution_count": 139,
   "metadata": {},
   "outputs": [],
   "source": [
    "from pyspark.mllib.feature import HashingTF\n",
    "from pyspark.mllib.feature import IDF\n",
    "from pyspark.mllib.classification import NaiveBayes, NaiveBayesModel\n",
    "from pyspark.mllib.linalg import Vectors\n",
    "from pyspark.mllib.regression import LabeledPoint\n",
    "from pyspark.mllib.classification import LogisticRegressionWithLBFGS, LogisticRegressionModel\n",
    "from pyspark.mllib.tree import DecisionTree, DecisionTreeModel\n",
    "from pyspark.mllib.evaluation import BinaryClassificationMetrics\n",
    "from pyspark.mllib.evaluation import MulticlassMetrics\n",
    "from pyspark.mllib.feature import ChiSqSelector\n",
    "\n",
    "import matplotlib.pyplot as plt; plt.rcdefaults()\n",
    "import numpy as np\n",
    "import os, tempfile\n",
    "import csv\n",
    "import string\n",
    "import random"
   ]
  },
  {
   "cell_type": "markdown",
   "metadata": {},
   "source": [
    "## Data Cleaning"
   ]
  },
  {
   "cell_type": "code",
   "execution_count": 140,
   "metadata": {},
   "outputs": [],
   "source": [
    "# --- function to remove stop words\n",
    "def remove_values_from_list(the_list, val):\n",
    "    return [value for value in the_list if value != val]\n",
    "\n",
    "# --- function to handle numbers, single characters URL's and @Username\n",
    "# --- Cleaning data\n",
    "\n",
    "def clean(filename):\n",
    "    text=open(filename, encoding='ISO-8859-1')\n",
    "    file_reader = csv.reader(text)\n",
    "    clean_final=[]\n",
    "    c=0\n",
    "    stop=['i', 'me', 'my', 'myself', 'we', 'our', 'ours', 'ourselves', 'you', 'your', 'yours', 'yourself', \n",
    "          'yourselves', 'he', 'him', 'his', 'himself', 'she', 'her', 'hers', 'herself', 'it', 'its', \n",
    "          'itself', 'they', 'them', 'their', 'theirs', 'themselves', 'what', 'which', 'who', 'whom', 'this', \n",
    "          'that', 'these', 'those', 'am', 'is', 'are', 'was', 'were', 'be', 'been', 'being', 'have', 'has', \n",
    "          'had', 'having', 'do', 'does', 'did', 'doing', 'a', 'an', 'the', 'and', 'but', 'if', 'or', 'because', \n",
    "          'as', 'until', 'while', 'of', 'at', 'by', 'for', 'with', 'about', 'against', 'between', 'into', 'through', \n",
    "          'during', 'before', 'after', 'above', 'below', 'to', 'from', 'up', 'down', 'in', 'out', 'on', 'off',\n",
    "          'over', 'under', 'again', 'further', 'then', 'once', 'here', 'there', 'when', 'where', 'why', 'how',\n",
    "          'all', 'any', 'both', 'each', 'few', 'more', 'most', 'other', 'some', 'such', 'no', 'nor', 'not',\n",
    "          'only', 'own', 'same', 'so', 'than', 'too', 'very', 's', 't', 'can', 'will', 'just', 'don', 'should',\n",
    "          'now']\n",
    "    shuffle=[]\n",
    "    tweet_list=[]\n",
    "    for row in file_reader:\n",
    "        temp_t=row[1]\n",
    "        ts=temp_t.split(\" \")\n",
    "        for w in range(1,len(ts)):\n",
    "            ts[w]=ts[w].lower()\n",
    "            if (ts[w]!='' and ts[w][0]=='@'):\n",
    "                ts[w]='AT_USER'\n",
    "            if (ts[w]!='' and len(ts[w])>4  and ts[w][0]=='w' and ts[w][1]=='w' and ts[w][2]=='w' and ts[w][3]=='.'):\n",
    "                ts[w]='URL'\n",
    "            if (ts[w]!='' and len(ts[w])>7  and ts[w][0]=='h' and ts[w][1]=='t' and ts[w][2]=='t' and ts[w][3]=='p' and\n",
    "                ts[w][4]==':' and ts[w][5]=='/' and ts[w][6]=='/'):\n",
    "                ts[w]='URL'\n",
    "            if (ts[w]!='' and len(ts[w])>8  and ts[w][0]=='h' and ts[w][1]=='t' and ts[w][2]=='t' and ts[w][3]=='p' and\n",
    "                ts[w][4]=='s' and ts[w][5]==':' and ts[w][6]=='/' and ts[w][7]=='/'):\n",
    "                ts[w]='URL'\n",
    "            for i in range(0,len(ts[w])):\n",
    "                flag=0\n",
    "                if len(ts[w])>i+2 and ts[w][i]==ts[w][i+1] and ts[w][i]==ts[w][i+2]:\n",
    "                    for j in range(i+2,len(ts[w])):\n",
    "                        if ts[w][i]==ts[w][j]:\n",
    "                            flag=1\n",
    "                            if len(ts[w])>j+1 and ts[w][i]!=ts[w][j+1]:\n",
    "                                break\n",
    "                        if j==(len(ts[w]))-1 and ts[w][i]==ts[w][j]:\n",
    "                            flag=1\n",
    "                            break\n",
    "                    if flag==1:\n",
    "                        ts[w]=ts[w].replace(ts[w][i:j+1],ts[w][i])\n",
    "            if (ts[w]!='' and ts[w][0].isdigit()):\n",
    "                ts[w]=''\n",
    "        for i in range(0,len(stop)):\n",
    "            if stop[i] in ts:\n",
    "                ts = remove_values_from_list(ts, stop[i])\n",
    "        cleaned_list=[word.strip(string.punctuation) for word in ts]\n",
    "        while '' in cleaned_list:\n",
    "            cleaned_list.remove('')\n",
    "        clean_final.append(cleaned_list)\n",
    "        shuffle.append([row[0],cleaned_list])\n",
    "        tweet_list.append(row[1])\n",
    "    return (shuffle,tweet_list)"
   ]
  },
  {
   "cell_type": "markdown",
   "metadata": {},
   "source": [
    "### Processed data for training "
   ]
  },
  {
   "cell_type": "code",
   "execution_count": 141,
   "metadata": {},
   "outputs": [],
   "source": [
    "# Replace the path of train.csv in the \"_____\"    \n",
    "train_shuffle,train_tweet_list=clean(\"train.csv/part-00000-0c2be565-64f3-483f-a8fd-2d14ac0f34df-c000.csv\")"
   ]
  },
  {
   "cell_type": "markdown",
   "metadata": {},
   "source": [
    "### Processed data for testing "
   ]
  },
  {
   "cell_type": "code",
   "execution_count": 142,
   "metadata": {},
   "outputs": [],
   "source": [
    "#test on test.csv(reading test.csv and classifying)\n",
    "# Replace the path of test.csv in the \"_____\"\n",
    "test_shuffle,test_tweet_list=clean(\"test.csv/part-00000-c88a2743-382f-42bf-a7fd-45a1a534c8a0-c000.csv\")"
   ]
  },
  {
   "cell_type": "markdown",
   "metadata": {},
   "source": [
    "## TF-IDF functions "
   ]
  },
  {
   "cell_type": "code",
   "execution_count": 143,
   "metadata": {},
   "outputs": [],
   "source": [
    "# --- Compute TF\n",
    "# --- The HashingTF that is the term frequency is computed for a feature space of 25000 and 50000\n",
    "def CompTF(tshuffle_rdd):\n",
    "    t_rdd=sc.parallelize([row[1] for row in tshuffle_rdd.collect()])\n",
    "    hashingTF = HashingTF(100000)\n",
    "    tf = hashingTF.transform(t_rdd)\n",
    "    return tf\n",
    "# --- the HashingTF that is the term frequency is computed for a feature space of 1500 and 3000 for Decision Tree\n",
    "def CompTF_withNumFeatures(tshuffle_rdd):\n",
    "    t_rdd=sc.parallelize([row[1] for row in tshuffle_rdd.collect()])\n",
    "    hashingTF = HashingTF(6000)\n",
    "    tf = hashingTF.transform(t_rdd)\n",
    "    return tf\n",
    "# --- Compute IDF\n",
    "# --- The IDF() computes the Inverse document frequency\n",
    "def CompIDF(tf):\n",
    "    tf.cache()\n",
    "    idf = IDF().fit(tf)\n",
    "    return idf\n",
    "#Compute TFIDF\n",
    "def CompTFIDF(tf,idf):\n",
    "    tfidf = idf.transform(tf)\n",
    "    return tfidf\n"
   ]
  },
  {
   "cell_type": "code",
   "execution_count": 144,
   "metadata": {},
   "outputs": [],
   "source": [
    "# --- Feature Extraction\n",
    "# --- Converts a pair of labels and features into a Labeled Point\n",
    "def Convert_to_LabeledPoint(labels,features):\n",
    "    training = labels.zip(features).map(lambda x: LabeledPoint(x[0], x[1]))\n",
    "    return training"
   ]
  },
  {
   "cell_type": "markdown",
   "metadata": {},
   "source": [
    "## Training Algorithms "
   ]
  },
  {
   "cell_type": "code",
   "execution_count": 145,
   "metadata": {},
   "outputs": [],
   "source": [
    "# --- Naive Bayes\n",
    "#Training - NB\n",
    "def NB_train(training):\n",
    "    model = NaiveBayes.train(training)\n",
    "    return model\n",
    "\n",
    "# --- Logistic Regression\n",
    "#Training - LG\n",
    "def LG_train(training):\n",
    "    model = LogisticRegressionWithLBFGS.train(training,numClasses=3)\n",
    "    return model\n",
    "\n",
    "\n",
    "# --- Decision Trees\n",
    "#Training - DT\n",
    "def DT_train(training):\n",
    "    model = DecisionTree.trainClassifier(training, numClasses=3, categoricalFeaturesInfo={},\n",
    "                                        impurity='gini', maxDepth=5, maxBins=32)\n",
    "    return model"
   ]
  },
  {
   "cell_type": "markdown",
   "metadata": {},
   "source": [
    "### Testing functions "
   ]
  },
  {
   "cell_type": "code",
   "execution_count": 146,
   "metadata": {},
   "outputs": [],
   "source": [
    "# --- Testing\n",
    "# --- Predicts labels based on the given features\n",
    "def test(model,labels,features):\n",
    "    labels_and_preds = labels.zip(model.predict(features)).map(\n",
    "                                lambda x: {\"actual\": float(x[0]), \"predicted\": float(x[1])})\n",
    "    acc=100.0*((labels_and_preds.filter(lambda x:x[\"actual\"]==x[\"predicted\"]).count()) / (labels.count()))\n",
    "    return acc\n",
    "\n",
    "# --- Testing with pred prob\n",
    "# -- Predicts labels based on the given features and also returns the set of predicts probabilities\n",
    "# -- (Only for Logistic Regression)\n",
    "def test_wpp(model,labels,features):\n",
    "    labels_and_probs = labels.zip(model.predict(features)).map(\n",
    "                                lambda x: {\"actual\": float(x[0]), \"probs\": float(x[1])})\n",
    "    return labels_and_probs\n",
    "    \n",
    "# --- Final Testing\n",
    "# --- Predicts labels based on the given features and returns predicted labels also for the purpose of calculation\n",
    "def test_final(model,labels,features):\n",
    "    labels_and_preds = labels.zip(model.predict(features)).map(\n",
    "                                lambda x: {\"actual\": float(x[0]), \"predicted\": float(x[1])})\n",
    "    acc=100.0*((labels_and_preds.filter(lambda x:x[\"actual\"]==x[\"predicted\"]).count()) / (labels.count()))\n",
    "    return (labels_and_preds,acc)\n"
   ]
  },
  {
   "cell_type": "code",
   "execution_count": 147,
   "metadata": {},
   "outputs": [],
   "source": [
    "# --- True positive rate and false positive rate\n",
    "def tf(labels_and_preds):\n",
    "    true_pos = (labels_and_preds.filter(lambda x:x[\"predicted\"]==1 and x[\"actual\"]==1).count())\n",
    "    true_neg = (labels_and_preds.filter(lambda x:x[\"predicted\"]==0 and x[\"actual\"]==0).count())\n",
    "    false_pos = (labels_and_preds.filter(lambda x:x[\"predicted\"]==1 and x[\"actual\"]==0).count())\n",
    "    false_neg = (labels_and_preds.filter(lambda x:x[\"predicted\"]==0 and x[\"actual\"]==1).count())\n",
    "\n",
    "    tpr=(true_pos)/(true_pos+false_neg)\n",
    "    fpr=(false_pos)/(false_pos+true_neg)\n",
    "    return (tpr,fpr)"
   ]
  },
  {
   "cell_type": "markdown",
   "metadata": {},
   "source": [
    "## Spliting the training data for Cross-Validation"
   ]
  },
  {
   "cell_type": "code",
   "execution_count": 148,
   "metadata": {},
   "outputs": [],
   "source": [
    "random.shuffle(train_shuffle)\n",
    "tshuff_rdd_train=sc.parallelize(train_shuffle)\n",
    "p=tshuff_rdd_train.randomSplit(weights=[0.1, 0.1, 0.1, 0.1, 0.1, 0.1, 0.1, 0.1, 0.1, 0.1], seed=1)\n"
   ]
  },
  {
   "cell_type": "markdown",
   "metadata": {},
   "source": [
    "## Applying Logistic Regression "
   ]
  },
  {
   "cell_type": "markdown",
   "metadata": {},
   "source": [
    "### 1. Training"
   ]
  },
  {
   "cell_type": "code",
   "execution_count": 149,
   "metadata": {},
   "outputs": [
    {
     "name": "stdout",
     "output_type": "stream",
     "text": [
      "(0.0,(100000,[3760,6843,19004,21638,24323,27300,31954,39327,49128,52364,60636,60803,61649,71532,72824,78344,83856],[4.022010164284395,5.893812341185987,5.464816735667628,4.620846665373099,4.954514607739022,6.74111020157319,1.4849177613258244,5.488347233077822,8.532869670801245,3.8789093206437215,4.381829764902599,4.421995806627934,3.3567199382274158,4.242410229652854,3.9949082345066036,1.6960734807596018,3.7085639548964826]))\n",
      "\n",
      " TRAINING ACCURACY:-\n",
      "\n",
      "The accuracy for the training dataset tested on the training data itself using Logistic Regression is 99.16313872206361 %\n",
      "\n",
      "\n",
      "CPU times: user 420 ms, sys: 43.4 ms, total: 463 ms\n",
      "Wall time: 14.2 s\n"
     ]
    }
   ],
   "source": [
    "%%time\n",
    "# -- Accuracy of Training data using train.csv itself using LG\n",
    "tf_train=CompTF(tshuff_rdd_train)\n",
    "idf_train=CompIDF(tf_train)\n",
    "tfidf_train=CompTFIDF(tf_train,idf_train)\n",
    "training = Convert_to_LabeledPoint(sc.parallelize([row[0] for row in tshuff_rdd_train.collect()]),tfidf_train)\n",
    "\n",
    "print(training.first())\n",
    "\n",
    "model_train_LG=LG_train(training)\n",
    "accuracy=test(model_train_LG,sc.parallelize([row[0] for row in tshuff_rdd_train.collect()]),tfidf_train)\n",
    "#accuracy_LG=test(model_train_LG,sc.parallelize([row[0] for row in tshuff_rdd_train.collect()]),tfidf_train)\n",
    "print (\"\\n TRAINING ACCURACY:-\\n\")\n",
    "print(\"The accuracy for the training dataset tested on the training data itself using Logistic Regression is\",accuracy,\"%\")\n",
    "print (\"\\n\")"
   ]
  },
  {
   "cell_type": "markdown",
   "metadata": {},
   "source": [
    "### 2. Validation using K Fold Cross Validation"
   ]
  },
  {
   "cell_type": "code",
   "execution_count": 150,
   "metadata": {},
   "outputs": [
    {
     "name": "stdout",
     "output_type": "stream",
     "text": [
      "10-FOLD CV ACCURACIES FOR ALL ITERATIONS\n",
      "\n",
      "The accuracy for number 1 kth partition test for 10-fold cross validation for LG is 69.78636826042727 %\n",
      "The accuracy for number 2 kth partition test for 10-fold cross validation for LG is 66.50342801175319 %\n",
      "The accuracy for number 3 kth partition test for 10-fold cross validation for LG is 68.41611996251171 %\n",
      "The accuracy for number 4 kth partition test for 10-fold cross validation for LG is 70.68311195445919 %\n",
      "The accuracy for number 5 kth partition test for 10-fold cross validation for LG is 69.17599186164801 %\n",
      "The accuracy for number 6 kth partition test for 10-fold cross validation for LG is 67.46268656716417 %\n",
      "The accuracy for number 7 kth partition test for 10-fold cross validation for LG is 69.0010298661174 %\n",
      "The accuracy for number 8 kth partition test for 10-fold cross validation for LG is 68.73804971319312 %\n",
      "The accuracy for number 9 kth partition test for 10-fold cross validation for LG is 68.03519061583577 %\n",
      "The accuracy for number 10 kth partition test for 10-fold cross validation for LG is 66.73306772908366 %\n",
      "\n",
      "\n",
      "The average accuracy for LG after 10-fold cross validation is 99.16313872206362 %\n",
      "\n",
      "\n",
      "The highest accuracy for LG after 10-fold cross validation is 99.16313872206361 %\n",
      "\n",
      "\n",
      "CPU times: user 4.28 s, sys: 526 ms, total: 4.8 s\n",
      "Wall time: 2min 3s\n"
     ]
    }
   ],
   "source": [
    "%%time\n",
    "# KFold Logistic Regression\n",
    "print (\"10-FOLD CV ACCURACIES FOR ALL ITERATIONS\\n\")\n",
    "tot_LG_kfold=0\n",
    "LG_kfold_set=[]\n",
    "for i in range(0,len(p)):\n",
    "    test_RDD=p[i]\n",
    "    train_tempRDD=sc.emptyRDD()\n",
    "    for j in range(0,len(p)):\n",
    "        if i!=j:\n",
    "            train_tempRDD=train_tempRDD.union(p[j])\n",
    "    tf_train=CompTF(train_tempRDD)\n",
    "    idf_train=CompIDF(tf_train)\n",
    "    tfidf_train=CompTFIDF(tf_train,idf_train)\n",
    "    training = Convert_to_LabeledPoint(sc.parallelize([row[0] for row in train_tempRDD.collect()]),tfidf_train)\n",
    "    model_train=LG_train(training)\n",
    "    tf_test=CompTF(test_RDD)\n",
    "    tfidf_test=CompTFIDF(tf_test,idf_train)\n",
    "    accuracy_LG=test(model_train,sc.parallelize([row[0] for row in test_RDD.collect()]),tfidf_test)\n",
    "    print (\"The accuracy for number\",i+1,\"kth partition test for 10-fold cross validation for LG is\",accuracy_LG,\"%\")\n",
    "    tot_LG_kfold=tot_LG_kfold+accuracy\n",
    "    LG_kfold_set.append(accuracy)\n",
    "avg_LG_kfold=tot_LG_kfold/len(p)\n",
    "LG_kfold_best=max(LG_kfold_set)\n",
    "print (\"\\n\")\n",
    "print (\"The average accuracy for LG after 10-fold cross validation is\",avg_LG_kfold,\"%\")\n",
    "print (\"\\n\")\n",
    "print (\"The highest accuracy for LG after 10-fold cross validation is\",LG_kfold_best,\"%\")\n",
    "print (\"\\n\")"
   ]
  },
  {
   "cell_type": "markdown",
   "metadata": {},
   "source": [
    "### 3. Testing the model on the test dataset."
   ]
  },
  {
   "cell_type": "code",
   "execution_count": 151,
   "metadata": {},
   "outputs": [
    {
     "name": "stdout",
     "output_type": "stream",
     "text": [
      "\n",
      "TEST ACCURACY:-\n",
      "\n",
      "The accuracy of prediction for LG on testing data is 69.37541974479517 %\n",
      "\n",
      "\n",
      "CPU times: user 174 ms, sys: 37.6 ms, total: 211 ms\n",
      "Wall time: 1.37 s\n"
     ]
    }
   ],
   "source": [
    "%%time\n",
    "tshuff_rdd_test=sc.parallelize(test_shuffle)\n",
    "tf_test=CompTF(tshuff_rdd_test)\n",
    "tf_train=CompTF(tshuff_rdd_train)\n",
    "idf_train=CompIDF(tf_train)\n",
    "tfidf_test=CompTFIDF(tf_test,idf_train)\n",
    "\n",
    "labels_and_preds_LG,accu_LG = test_final(model_train_LG,sc.parallelize([row[0] for row in tshuff_rdd_test.collect()]),tfidf_test)\n",
    "\n",
    "print (\"\\nTEST ACCURACY:-\\n\")\n",
    "print(\"The accuracy of prediction for LG on testing data is\",accu_LG,\"%\")\n",
    "print (\"\\n\")"
   ]
  },
  {
   "cell_type": "markdown",
   "metadata": {},
   "source": [
    "### 4. Ploting different accuracies "
   ]
  },
  {
   "cell_type": "code",
   "execution_count": 152,
   "metadata": {},
   "outputs": [
    {
     "data": {
      "image/png": "[encoded data removed]",
      "text/plain": [
       "<Figure size 640x480 with 1 Axes>"
      ]
     },
     "metadata": {},
     "output_type": "display_data"
    }
   ],
   "source": [
    "objects = ('Training Accuracy', '10-Fold CV', 'Testing Accuracy')\n",
    "y_pos = np.arange(len(objects))\n",
    "performance = [accuracy_LG,avg_LG_kfold,accu_LG]\n",
    "plt.bar(y_pos, performance, align='center', alpha=0.5)\n",
    "plt.xticks(y_pos, objects)\n",
    "plt.xlabel('Classifications')\n",
    "plt.ylabel('Accuracy')\n",
    "plt.title('Logistic Regression Classifier - Accuracies') \n",
    "plt.show()"
   ]
  },
  {
   "cell_type": "markdown",
   "metadata": {},
   "source": [
    "### 5. Model Summary - Confussion metrics"
   ]
  },
  {
   "cell_type": "code",
   "execution_count": 153,
   "metadata": {},
   "outputs": [
    {
     "name": "stdout",
     "output_type": "stream",
     "text": [
      "\n",
      "Summary Stats_LG\n",
      "\n",
      "Class 0 precision_LG = 0.8026599568655644\n",
      "Class 0 recall_LG = 0.8017953321364453\n",
      "Class 0 F1 Measure_NB = 0.8022274115322436\n",
      "Class 1 precision_LG = 0.4648033126293996\n",
      "Class 1 recall_LG = 0.47816826411075614\n",
      "Class 1 F1 Measure_NB = 0.4713910761154856\n",
      "Class 2 precision_LG = 0.5799721835883171\n",
      "Class 2 recall_LG = 0.5612382234185733\n",
      "Class 2 F1 Measure_NB = 0.5704514363885089\n",
      "\n",
      "\n",
      "Avg/Weighted recall_LG = 0.6937541974479515\n",
      "Avg/Weighted precision_LG = 0.6945998707937593\n",
      "Avg/Weighted F(1) Score_LG = 0.6941314033638687\n",
      "\n",
      "Confusion matrix_LG=\n",
      "[[2233.  376.  176.]\n",
      " [ 364.  449.  126.]\n",
      " [ 185.  141.  417.]]\n",
      "\n",
      "\n",
      "\n"
     ]
    }
   ],
   "source": [
    "metrics = MulticlassMetrics(labels_and_preds_LG.map(lambda x: (x[\"predicted\"], x[\"actual\"])))\n",
    "# Model summary \n",
    "print(\"\\nSummary Stats_LG\\n\")\n",
    "labels = (sc.parallelize([row[0] for row in tshuff_rdd_test.collect()])).distinct().collect()\n",
    "for label in sorted(labels):\n",
    "    print(\"Class %s precision_LG = %s\" % (label, metrics.precision(label)))\n",
    "    print(\"Class %s recall_LG = %s\" % (label, metrics.recall(label)))\n",
    "    print(\"Class %s F1 Measure_NB = %s\" % (label, metrics.fMeasure(float(label), beta=1.0)))\n",
    "# Model Weighted Stats \n",
    "print(\"\\n\\nAvg/Weighted recall_LG = %s\" % metrics.weightedRecall)\n",
    "print(\"Avg/Weighted precision_LG = %s\" % metrics.weightedPrecision)\n",
    "print(\"Avg/Weighted F(1) Score_LG = %s\" % metrics.weightedFMeasure())\n",
    "\n",
    "cm=metrics.confusionMatrix().toArray()\n",
    "print(\"\\nConfusion matrix_LG=\")\n",
    "print(cm)\n",
    "print(\"\\n\\n\")"
   ]
  },
  {
   "cell_type": "markdown",
   "metadata": {},
   "source": [
    "### 6. ROC Curve and AUC"
   ]
  },
  {
   "cell_type": "code",
   "execution_count": 154,
   "metadata": {},
   "outputs": [
    {
     "name": "stdout",
     "output_type": "stream",
     "text": [
      "Area under ROC_Logistic_Regression = 0.74840789689969\n"
     ]
    },
    {
     "data": {
      "image/png": "[encoded data removed]",
      "text/plain": [
       "<Figure size 640x480 with 1 Axes>"
      ]
     },
     "metadata": {},
     "output_type": "display_data"
    }
   ],
   "source": [
    "model_train_LG.setThreshold(0.25)\n",
    "labels_and_preds_LG2,accu_LG2 = test_final(model_train_LG,sc.parallelize([row[0] for row in tshuff_rdd_test.collect()]),tfidf_test)\n",
    "model_train_LG.setThreshold(0.75)\n",
    "labels_and_preds_LG3,accu_LG3 = test_final(model_train_LG,sc.parallelize([row[0] for row in tshuff_rdd_test.collect()]),tfidf_test)\n",
    "model_train_LG.setThreshold(0.1)\n",
    "labels_and_preds_LG4,accu_LG4 = test_final(model_train_LG,sc.parallelize([row[0] for row in tshuff_rdd_test.collect()]),tfidf_test)\n",
    "model_train_LG.setThreshold(0.9)\n",
    "labels_and_preds_LG5,accu_LG5 = test_final(model_train_LG,sc.parallelize([row[0] for row in tshuff_rdd_test.collect()]),tfidf_test)\n",
    "\n",
    "tpr,fpr=tf(labels_and_preds_LG) \n",
    "tpr2,fpr2=tf(labels_and_preds_LG2) \n",
    "tpr3,fpr3=tf(labels_and_preds_LG3)\n",
    "tpr4,fpr4=tf(labels_and_preds_LG4) \n",
    "tpr5,fpr5=tf(labels_and_preds_LG5) \n",
    "\n",
    "x = [0,fpr5,fpr3,fpr,fpr2,fpr4,1]\n",
    "y = [0,tpr5,tpr3,tpr,tpr2,tpr4,1]\n",
    "\n",
    "# This is the ROC curve\n",
    "x1=[0,1]\n",
    "y1=[0,1]\n",
    "plt.xlabel('False Positive Rate')\n",
    "plt.ylabel('True Positive Rate')\n",
    "plt.title('ROC Curve - Logistic Regression')\n",
    "plt.plot(x1,y1)\n",
    "plt.plot(x,y)\n",
    "\n",
    "metrics2 = BinaryClassificationMetrics(labels_and_preds_LG.map(lambda x: (x[\"predicted\"], x[\"actual\"])))\n",
    "model_train_LG.clearThreshold()\n",
    "labels_and_probs_LG=test_wpp(model_train_LG,sc.parallelize([row[0] for row in tshuff_rdd_test.collect()]),tfidf_test)\n",
    "metrics = MulticlassMetrics(labels_and_preds_LG.map(lambda x: (x[\"predicted\"], x[\"actual\"])))\n",
    "# Area under ROC curve\n",
    "print(\"Area under ROC_Logistic_Regression = %s\" % metrics2.areaUnderROC)\n",
    "plt.show()"
   ]
  },
  {
   "cell_type": "markdown",
   "metadata": {},
   "source": [
    "## Applying Naive Bayes \n"
   ]
  },
  {
   "cell_type": "markdown",
   "metadata": {},
   "source": [
    "### 1. Training"
   ]
  },
  {
   "cell_type": "code",
   "execution_count": 155,
   "metadata": {},
   "outputs": [
    {
     "name": "stdout",
     "output_type": "stream",
     "text": [
      "TRAINING ACCURACY:-\n",
      "\n",
      "The accuracy for the training dataset tested on the training data itself using NB is 89.11095796002758 %\n",
      "\n",
      "\n",
      "CPU times: user 552 ms, sys: 55.8 ms, total: 608 ms\n",
      "Wall time: 4.65 s\n"
     ]
    }
   ],
   "source": [
    "%%time\n",
    "#Accuracy of Training data using train.csv itself using NB\n",
    "tf_train=CompTF(tshuff_rdd_train)\n",
    "idf_train=CompIDF(tf_train)\n",
    "tfidf_train=CompTFIDF(tf_train,idf_train)\n",
    "#Feature Extraction\\\n",
    "training_NB = Convert_to_LabeledPoint(sc.parallelize([row[0] for row in tshuff_rdd_train.collect()]),tfidf_train)\n",
    "model_train_NB=NB_train(training_NB)\n",
    "#testing NB with training data \n",
    "accuracy_NB=test(model_train_NB,sc.parallelize([row[0] for row in tshuff_rdd_train.collect()]),tfidf_train)\n",
    "print (\"TRAINING ACCURACY:-\\n\")\n",
    "print(\"The accuracy for the training dataset tested on the training data itself using NB is\",accuracy_NB,\"%\")\n",
    "print (\"\\n\")"
   ]
  },
  {
   "cell_type": "markdown",
   "metadata": {},
   "source": [
    "### 2. Validation using K Fold Cross Validation"
   ]
  },
  {
   "cell_type": "code",
   "execution_count": 156,
   "metadata": {},
   "outputs": [
    {
     "name": "stdout",
     "output_type": "stream",
     "text": [
      "10-FOLD CV ACCURACIES FOR ALL ITERATIONS\n",
      "\n",
      "The accuracy for number 1 kth partition test for 10-fold cross validation for NB is 71.00712105798576 %\n",
      "The accuracy for number 2 kth partition test for 10-fold cross validation for NB is 72.47796278158668 %\n",
      "The accuracy for number 3 kth partition test for 10-fold cross validation for NB is 72.5398313027179 %\n",
      "The accuracy for number 4 kth partition test for 10-fold cross validation for NB is 75.71157495256166 %\n",
      "The accuracy for number 5 kth partition test for 10-fold cross validation for NB is 74.26246185147508 %\n",
      "The accuracy for number 6 kth partition test for 10-fold cross validation for NB is 73.33333333333333 %\n",
      "The accuracy for number 7 kth partition test for 10-fold cross validation for NB is 74.04737384140063 %\n",
      "The accuracy for number 8 kth partition test for 10-fold cross validation for NB is 73.80497131931166 %\n",
      "The accuracy for number 9 kth partition test for 10-fold cross validation for NB is 73.11827956989248 %\n",
      "The accuracy for number 10 kth partition test for 10-fold cross validation for NB is 74.40239043824701 %\n",
      "\n",
      "\n",
      "The average accuracy for NB after 10-fold cross validation is 73.47053004485123 %\n",
      "\n",
      "\n",
      "The highest accuracy for NB after 10-fold cross validation is 75.71157495256166 %\n",
      "\n",
      "\n",
      "CPU times: user 5.71 s, sys: 388 ms, total: 6.1 s\n",
      "Wall time: 42.3 s\n"
     ]
    }
   ],
   "source": [
    "%%time\n",
    "# KFold NB\n",
    "print (\"10-FOLD CV ACCURACIES FOR ALL ITERATIONS\\n\")\n",
    "tot_NB_kfold=0\n",
    "NB_kfold_set=[]\n",
    "for i in range(0,len(p)):\n",
    "    test_RDD=p[i]\n",
    "    train_tempRDD=sc.emptyRDD()\n",
    "    for j in range(0,len(p)):\n",
    "        if i!=j:\n",
    "            train_tempRDD=train_tempRDD.union(p[j])\n",
    "    tf_train=CompTF(train_tempRDD)\n",
    "    idf_train=CompIDF(tf_train)\n",
    "    tfidf_train=CompTFIDF(tf_train,idf_train)\n",
    "    training = Convert_to_LabeledPoint(sc.parallelize([row[0] for row in train_tempRDD.collect()]),tfidf_train)\n",
    "    model_train=NB_train(training)\n",
    "    tf_test=CompTF(test_RDD)\n",
    "    tfidf_test=CompTFIDF(tf_test,idf_train)\n",
    "    accuracy=test(model_train,sc.parallelize([row[0] for row in test_RDD.collect()]),tfidf_test)\n",
    "    print (\"The accuracy for number\",i+1,\"kth partition test for 10-fold cross validation for NB is\",accuracy,\"%\")\n",
    "    NB_kfold_set.append(accuracy)\n",
    "    tot_NB_kfold=tot_NB_kfold+accuracy\n",
    "avg_NB_kfold=tot_NB_kfold/len(p)\n",
    "NB_kfold_best=max(NB_kfold_set)\n",
    "print (\"\\n\")\n",
    "print (\"The average accuracy for NB after 10-fold cross validation is\",avg_NB_kfold,\"%\")\n",
    "print (\"\\n\")\n",
    "print (\"The highest accuracy for NB after 10-fold cross validation is\",NB_kfold_best,\"%\")\n",
    "print (\"\\n\")"
   ]
  },
  {
   "cell_type": "markdown",
   "metadata": {},
   "source": [
    "### 3. Testing the model on the test dataset."
   ]
  },
  {
   "cell_type": "code",
   "execution_count": 157,
   "metadata": {},
   "outputs": [
    {
     "name": "stdout",
     "output_type": "stream",
     "text": [
      "\n",
      "TEST ACCURACY:-\n",
      "\n",
      "The accuracy of prediction for NB on testing data is 73.76315200358182 %\n",
      "CPU times: user 130 ms, sys: 35.1 ms, total: 165 ms\n",
      "Wall time: 1.22 s\n"
     ]
    }
   ],
   "source": [
    "%%time\n",
    "#print (test_shuffle)\n",
    "tshuff_rdd_test=sc.parallelize(test_shuffle)\n",
    "tf_test=CompTF(tshuff_rdd_test)\n",
    "tf_train=CompTF(tshuff_rdd_train)\n",
    "idf_train=CompIDF(tf_train)\n",
    "tfidf_test=CompTFIDF(tf_test,idf_train)\n",
    "labels_and_preds_NB,accu_NB = test_final(model_train_NB,sc.parallelize([row[0] for row in tshuff_rdd_test.collect()]),tfidf_test)\n",
    "print (\"\\nTEST ACCURACY:-\\n\")\n",
    "print(\"The accuracy of prediction for NB on testing data is\",accu_NB,\"%\")"
   ]
  },
  {
   "cell_type": "markdown",
   "metadata": {},
   "source": [
    "### 4. Ploting different accuracies"
   ]
  },
  {
   "cell_type": "code",
   "execution_count": 158,
   "metadata": {},
   "outputs": [
    {
     "data": {
      "image/png": "[encoded data removed]",
      "text/plain": [
       "<Figure size 640x480 with 1 Axes>"
      ]
     },
     "metadata": {},
     "output_type": "display_data"
    }
   ],
   "source": [
    "objects = ('Training Accuracy', '10-Fold CV', 'Testing Accuracy')\n",
    "y_pos = np.arange(len(objects))\n",
    "performance = [accuracy_NB,avg_NB_kfold,accu_NB]\n",
    "plt.bar(y_pos, performance, align='center', alpha=0.5)\n",
    "plt.xticks(y_pos, objects)\n",
    "plt.xlabel('Classifications')\n",
    "plt.ylabel('Accuracy')\n",
    "plt.title('Naive Bayes Classifier - Accuracies')\n",
    "plt.show()"
   ]
  },
  {
   "cell_type": "markdown",
   "metadata": {},
   "source": [
    "### 5. Model Summary - Confussion Matrix"
   ]
  },
  {
   "cell_type": "code",
   "execution_count": 159,
   "metadata": {},
   "outputs": [
    {
     "name": "stdout",
     "output_type": "stream",
     "text": [
      "\n",
      "Summary Stats_NB\n",
      "\n",
      "Class 0 precision_NB = 0.7626666666666667 \n",
      "Class 0 recall_NB = 0.9242369838420108 \n",
      "Class 0 F1 Measure_NB = 0.8357142857142857 \n",
      "\n",
      "Class 1 precision_NB = 0.6082474226804123 \n",
      "Class 1 recall_NB = 0.3769968051118211 \n",
      "Class 1 F1 Measure_NB = 0.46548323471400394 \n",
      "\n",
      "Class 2 precision_NB = 0.7196078431372549 \n",
      "Class 2 recall_NB = 0.4939434724091521 \n",
      "Class 2 F1 Measure_NB = 0.5857940941739824 \n",
      "\n",
      "\n",
      "Avg/Weighted recall_NB = 0.7376315200358183\n",
      "Avg/Weighted precision_NB = 0.7230444647446953\n",
      "Avg/Weighted F(1) Score_NB = 0.7163192422390876\n",
      "\n",
      "Confusion matrix_NB=\n",
      "[[2574.  141.   70.]\n",
      " [ 512.  354.   73.]\n",
      " [ 289.   87.  367.]]\n",
      "\n",
      "\n"
     ]
    }
   ],
   "source": [
    "metrics = MulticlassMetrics(labels_and_preds_NB.map(lambda x: (x[\"predicted\"], x[\"actual\"])))\n",
    "# Overall statistics\n",
    "print(\"\\nSummary Stats_NB\\n\")\n",
    "# Statistics by class\n",
    "labels = (sc.parallelize([row[0] for row in tshuff_rdd_test.collect()])).distinct().collect()\n",
    "for label in sorted(labels):\n",
    "    print(\"Class %s precision_NB = %s \" % (label, metrics.precision(label)))\n",
    "    print(\"Class %s recall_NB = %s \" % (label, metrics.recall(label)))\n",
    "    print(\"Class %s F1 Measure_NB = %s \\n\" % (label, metrics.fMeasure(float(label), beta=1.0)))\n",
    "\n",
    "# Weighted stats\n",
    "print(\"\\nAvg/Weighted recall_NB = %s\" % metrics.weightedRecall)\n",
    "print(\"Avg/Weighted precision_NB = %s\" % metrics.weightedPrecision)\n",
    "print(\"Avg/Weighted F(1) Score_NB = %s\" % metrics.weightedFMeasure())\n",
    "\n",
    "cm=metrics.confusionMatrix().toArray()\n",
    "print(\"\\nConfusion matrix_NB=\")\n",
    "print(cm)\n",
    "print(\"\\n\")"
   ]
  },
  {
   "cell_type": "markdown",
   "metadata": {},
   "source": [
    "### 6. ROC Curve and AUC"
   ]
  },
  {
   "cell_type": "code",
   "execution_count": 160,
   "metadata": {},
   "outputs": [
    {
     "data": {
      "image/png": "[encoded data removed]",
      "text/plain": [
       "<Figure size 640x480 with 1 Axes>"
      ]
     },
     "metadata": {},
     "output_type": "display_data"
    },
    {
     "name": "stdout",
     "output_type": "stream",
     "text": [
      "Area under ROC_NB = 0.7273361199051313\n"
     ]
    }
   ],
   "source": [
    "tshuff_rdd_test=sc.parallelize(test_shuffle)\n",
    "tf_test=CompTF(tshuff_rdd_test)\n",
    "tf_train=CompTF(tshuff_rdd_train)\n",
    "idf_train=CompIDF(tf_train)\n",
    "tfidf_test=CompTFIDF(tf_test,idf_train)\n",
    "labels_and_preds_NB2,accu_NB2 = test_final(model_train_NB,sc.parallelize([row[0] for row in tshuff_rdd_test.collect()]),tf_test)\n",
    "tpr,fpr=tf(labels_and_preds_NB)\n",
    "tpr2,fpr2=tf(labels_and_preds_NB2)\n",
    "x = [0,fpr,fpr2,1]\n",
    "y = [0,tpr,tpr2,1]\n",
    "# This is the ROC curve\n",
    "x1=[0,1]\n",
    "y1=[0,1]\n",
    "plt.xlabel('False Positive Rate')\n",
    "plt.ylabel('True Positive Rate')\n",
    "plt.title('ROC Curve - Naive Bayes')\n",
    "plt.plot(x1,y1)\n",
    "plt.plot(x,y)\n",
    "plt.show()\n",
    "metrics2 = BinaryClassificationMetrics(labels_and_preds_NB.map(lambda x: (x[\"predicted\"], x[\"actual\"])))\n",
    "# Area under ROC curve\n",
    "print(\"Area under ROC_NB = %s\" % metrics2.areaUnderROC)"
   ]
  },
  {
   "cell_type": "markdown",
   "metadata": {},
   "source": [
    "## Applying Decision Tree"
   ]
  },
  {
   "cell_type": "markdown",
   "metadata": {},
   "source": [
    "### 1. Training"
   ]
  },
  {
   "cell_type": "code",
   "execution_count": 161,
   "metadata": {},
   "outputs": [
    {
     "name": "stdout",
     "output_type": "stream",
     "text": [
      "TRAINING ACCURACY:-\n",
      "\n",
      "The accuracy for the training dataset tested on the training data itself using DT is 69.39056808112632 %\n",
      "\n",
      "\n",
      "CPU times: user 235 ms, sys: 39.6 ms, total: 274 ms\n",
      "Wall time: 10.8 s\n"
     ]
    }
   ],
   "source": [
    "%%time\n",
    "#Accuracy of Training data using train.csv itself using DT\n",
    "#print (test_shuffle)\n",
    "tf_train=CompTF_withNumFeatures(tshuff_rdd_train)\n",
    "idf_train=CompIDF(tf_train)\n",
    "tfidf_train=CompTFIDF(tf_train,idf_train)\n",
    "## features extractions\n",
    "training = Convert_to_LabeledPoint(sc.parallelize([row[0] for row in tshuff_rdd_train.collect()]),tfidf_train)\n",
    "model_train_DT=DT_train(training)\n",
    "accuracy_DT=test(model_train_DT,sc.parallelize([row[0] for row in tshuff_rdd_train.collect()]),tfidf_train)\n",
    "print (\"TRAINING ACCURACY:-\\n\")\n",
    "print(\"The accuracy for the training dataset tested on the training data itself using DT is\",accuracy_DT,\"%\")\n",
    "print(\"\\n\")"
   ]
  },
  {
   "cell_type": "markdown",
   "metadata": {},
   "source": [
    "### 2. Validation using K Fold Cross Validation"
   ]
  },
  {
   "cell_type": "code",
   "execution_count": 162,
   "metadata": {},
   "outputs": [
    {
     "name": "stdout",
     "output_type": "stream",
     "text": [
      "10-FOLD CV ACCURACIES FOR ALL ITERATIONS\n",
      "\n",
      "The accuracy for number 1 kth partition test for 10-fold cross validation for DT is 68.05696846388607 %\n",
      "The accuracy for number 2 kth partition test for 10-fold cross validation for DT is 67.48285994123408 %\n",
      "The accuracy for number 3 kth partition test for 10-fold cross validation for DT is 66.9165885660731 %\n",
      "The accuracy for number 4 kth partition test for 10-fold cross validation for DT is 71.34724857685009 %\n",
      "The accuracy for number 5 kth partition test for 10-fold cross validation for DT is 70.39674465920652 %\n",
      "The accuracy for number 6 kth partition test for 10-fold cross validation for DT is 69.75124378109453 %\n",
      "The accuracy for number 7 kth partition test for 10-fold cross validation for DT is 68.79505664263645 %\n",
      "The accuracy for number 8 kth partition test for 10-fold cross validation for DT is 68.06883365200764 %\n",
      "The accuracy for number 9 kth partition test for 10-fold cross validation for DT is 69.50146627565982 %\n",
      "The accuracy for number 10 kth partition test for 10-fold cross validation for DT is 69.82071713147411 %\n",
      "\n",
      "\n",
      "The average accuracy for DT after 10-fold cross validation is 69.01377276901225 %\n",
      "\n",
      "\n",
      "The highest accuracy for DT after 10-fold cross validation is 71.34724857685009 %\n",
      "\n",
      "\n",
      "CPU times: user 1.83 s, sys: 413 ms, total: 2.24 s\n",
      "Wall time: 1min 35s\n"
     ]
    }
   ],
   "source": [
    "%%time\n",
    "# KFold DT\n",
    "print (\"10-FOLD CV ACCURACIES FOR ALL ITERATIONS\\n\")\n",
    "tot_DT_kfold=0\n",
    "DT_kfold_set=[]\n",
    "for i in range(0,len(p)):\n",
    "    test_RDD=p[i]\n",
    "    train_tempRDD=sc.emptyRDD()\n",
    "    for j in range(0,len(p)):\n",
    "        if i!=j:\n",
    "            train_tempRDD=train_tempRDD.union(p[j])\n",
    "    tf_train=CompTF_withNumFeatures(train_tempRDD)\n",
    "    idf_train=CompIDF(tf_train)\n",
    "    tfidf_train=CompTFIDF(tf_train,idf_train)\n",
    "    training = Convert_to_LabeledPoint(sc.parallelize([row[0] for row in train_tempRDD.collect()]),tfidf_train)\n",
    "    model_train = DT_train(training)\n",
    "    tf_test = CompTF_withNumFeatures(test_RDD)\n",
    "    tfidf_test = CompTFIDF(tf_test,idf_train)\n",
    "    accuracy=test(model_train,sc.parallelize([row[0] for row in test_RDD.collect()]),tfidf_test)\n",
    "    print (\"The accuracy for number\",i+1,\"kth partition test for 10-fold cross validation for DT is\",accuracy,\"%\")\n",
    "    tot_DT_kfold=tot_DT_kfold+accuracy\n",
    "    DT_kfold_set.append(accuracy)\n",
    "avg_DT_kfold=tot_DT_kfold/len(p)\n",
    "DT_kfold_best=max(DT_kfold_set)\n",
    "print(\"\\n\")\n",
    "print (\"The average accuracy for DT after 10-fold cross validation is\",avg_DT_kfold,\"%\")\n",
    "print(\"\\n\")\n",
    "print (\"The highest accuracy for DT after 10-fold cross validation is\",DT_kfold_best,\"%\")\n",
    "print(\"\\n\")"
   ]
  },
  {
   "cell_type": "markdown",
   "metadata": {},
   "source": [
    "### 3. Testing the model on the test dataset."
   ]
  },
  {
   "cell_type": "code",
   "execution_count": 163,
   "metadata": {},
   "outputs": [
    {
     "name": "stdout",
     "output_type": "stream",
     "text": [
      "\n",
      "TEST ACCURACY:-\n",
      "\n",
      "The accuracy of prediction for DT on testing data is 67.76359973136333 %\n",
      "\n",
      "\n",
      "CPU times: user 136 ms, sys: 22.3 ms, total: 159 ms\n",
      "Wall time: 1.75 s\n"
     ]
    }
   ],
   "source": [
    "%%time\n",
    "tshuff_rdd_test=sc.parallelize(test_shuffle)\n",
    "tf_test=CompTF_withNumFeatures(tshuff_rdd_test)\n",
    "tf_train=CompTF_withNumFeatures(tshuff_rdd_train)\n",
    "idf_train=CompIDF(tf_train)\n",
    "tfidf_test=CompTFIDF(tf_test,idf_train)\n",
    "labels_and_preds_DT,accu_DT = test_final(model_train_DT,sc.parallelize([row[0] for row in tshuff_rdd_test.collect()]),tfidf_test)\n",
    "print (\"\\nTEST ACCURACY:-\\n\")\n",
    "print(\"The accuracy of prediction for DT on testing data is\",accu_DT,\"%\")\n",
    "print(\"\\n\")"
   ]
  },
  {
   "cell_type": "markdown",
   "metadata": {},
   "source": [
    "### 4. Ploting different accuracies\n"
   ]
  },
  {
   "cell_type": "code",
   "execution_count": 164,
   "metadata": {},
   "outputs": [
    {
     "data": {
      "image/png": "[encoded data removed]",
      "text/plain": [
       "<Figure size 640x480 with 1 Axes>"
      ]
     },
     "metadata": {},
     "output_type": "display_data"
    }
   ],
   "source": [
    "objects = ('Training Accuracy', '10-Fold CV', 'Testing Accuracy')\n",
    "y_pos = np.arange(len(objects))\n",
    "performance = [accuracy_DT,avg_DT_kfold,accu_DT]\n",
    "plt.bar(y_pos, performance, align='center', alpha=0.5)\n",
    "plt.xticks(y_pos, objects)\n",
    "plt.xlabel('Classifications')\n",
    "plt.ylabel('Accuracy')\n",
    "plt.title('Decision Tree Learning Classifier - Accuracies') \n",
    "plt.show()\n"
   ]
  },
  {
   "cell_type": "markdown",
   "metadata": {},
   "source": [
    "### 5. Model Summary - Confussion Matrix\n"
   ]
  },
  {
   "cell_type": "code",
   "execution_count": 165,
   "metadata": {},
   "outputs": [
    {
     "name": "stdout",
     "output_type": "stream",
     "text": [
      "\n",
      "Summary Stats_D\n",
      "\n",
      "Class 0 precision_DT = 0.6942675159235668\n",
      "Class 0 recall_DT = 0.9393177737881508\n",
      "Class 0 F1 Measure_DT = 0.7984129406378757\n",
      "Class 1 precision_DT = 0.4834710743801653\n",
      "Class 1 recall_DT = 0.12460063897763578\n",
      "Class 1 F1 Measure_DT = 0.1981371718882303\n",
      "Class 2 precision_DT = 0.6433260393873085\n",
      "Class 2 recall_DT = 0.39569313593539707\n",
      "Class 2 F1 Measure_DT = 0.49\n",
      "\n",
      "\n",
      "Avg/Weighted recall_DT = 0.6776359973136333\n",
      "Avg/Weighted precision_DT = 0.6414832366140316\n",
      "Avg/Weighted F(1) Score_DT = 0.6209314627444666\n",
      "\n",
      "Confusion matrix_DT=\n",
      "[[2616.   80.   89.]\n",
      " [ 748.  117.   74.]\n",
      " [ 404.   45.  294.]]\n"
     ]
    }
   ],
   "source": [
    "metrics = MulticlassMetrics(labels_and_preds_DT.map(lambda x: (x[\"predicted\"], x[\"actual\"])))\n",
    "# Overall statistics\n",
    "print(\"\\nSummary Stats_D\\n\")\n",
    "# Statistics by class\n",
    "labels = (sc.parallelize([row[0] for row in tshuff_rdd_test.collect()])).distinct().collect()\n",
    "for label in sorted(labels):\n",
    "    print(\"Class %s precision_DT = %s\" % (label, metrics.precision(label)))\n",
    "    print(\"Class %s recall_DT = %s\" % (label, metrics.recall(label)))\n",
    "    print(\"Class %s F1 Measure_DT = %s\" % (label, metrics.fMeasure(float(label), beta=1.0)))\n",
    "\n",
    "# Weighted stats\n",
    "print(\"\\n\\nAvg/Weighted recall_DT = %s\" % metrics.weightedRecall)\n",
    "print(\"Avg/Weighted precision_DT = %s\" % metrics.weightedPrecision)\n",
    "print(\"Avg/Weighted F(1) Score_DT = %s\" % metrics.weightedFMeasure())\n",
    "\n",
    "cm=metrics.confusionMatrix().toArray()\n",
    "print(\"\\nConfusion matrix_DT=\")\n",
    "print(cm)"
   ]
  },
  {
   "cell_type": "markdown",
   "metadata": {},
   "source": [
    "## Which is the Best Classifier?\n",
    "The classifier with a better cross valiation score is the best.\n",
    "\n"
   ]
  },
  {
   "cell_type": "code",
   "execution_count": 166,
   "metadata": {},
   "outputs": [
    {
     "name": "stdout",
     "output_type": "stream",
     "text": [
      "Most accurate based on highest 10-fold CV accuracy:-\n",
      "\n",
      "Logistic Regression is the most accurate Classifier\n",
      "\n"
     ]
    }
   ],
   "source": [
    "maxi=max(float(avg_NB_kfold),float(avg_LG_kfold),float(avg_DT_kfold))\n",
    "maxi_high=max(float(DT_kfold_best),float(LG_kfold_best),float(NB_kfold_best))\n",
    "print (\"Most accurate based on highest 10-fold CV accuracy:-\\n\")\n",
    "if maxi_high==NB_kfold_best:\n",
    "     print (\"Naive Bayes is the most accurate Classifier\\n\")\n",
    "elif maxi_high==LG_kfold_best:\n",
    "    print (\"Logistic Regression is the most accurate Classifier\\n\")\n",
    "elif maxi_high==DT_kfold_best:\n",
    "    print (\"Decision Trees  is the most accurate Classifier\\n\")"
   ]
  },
  {
   "cell_type": "markdown",
   "metadata": {},
   "source": [
    "## Fetching some of the Tweets after selecting the best classifer!\n",
    "I outputed the prediction probabilitioes and the corresponding tweet for Correctly and Incorrectly predicted label for tweets"
   ]
  },
  {
   "cell_type": "code",
   "execution_count": 167,
   "metadata": {},
   "outputs": [
    {
     "name": "stdout",
     "output_type": "stream",
     "text": [
      "Most accurate based on average 10-fold CV accuracy:-\n",
      "\n",
      "LG is the most accurate Classifier\n",
      "******************************************************\n",
      "some test tweets that are classified correctly along with their prediction probabilities(LG):-\n",
      "\n",
      "1 ) tweet -  \\@AmericanAir  so far all I am getting is \\\"\\\"maybe your bag will come today. We don't know.\\\"\\\" Website says \\\"\\\"status unknown\\\"\\\"- can you help?\\\"\"\n",
      "prediction probability -  0.0\n",
      "\n",
      "\n",
      "2 ) tweet -  \\@AmericanAir  upon entering plane to 2 @USAirways stewardesses: \\\"\\\"can I have some water?\\\"\\\" \\\"\\\"no we don't do that. please take your seat\\\"\\\"\\\"\"\n",
      "prediction probability -  0.0\n",
      "\n",
      "\n",
      "3 ) tweet -  \\@AmericanAir \\\"\\\"We'll drop off your luggage 24 hours after your flight\\\"\\\" is ridiculous.\\\"\"\n",
      "prediction probability -  0.0\n",
      "\n",
      "\n",
      "4 ) tweet -  \\@AmericanAir AA1675 flight out of Jamaica was Cancelled Flightled yesterday due to \\\"\\\"weather\\\"\\\"\"\n",
      "prediction probability -  0.0\n",
      "\n",
      "\n",
      "5 ) tweet -  \\@AmericanAir Define \\\"\\\"sincerely\\\"\\\". Your actions do not reflect what you're saying in a poor attempt to redeem yourselves on social media.\\\"\"\n",
      "prediction probability -  0.0\n",
      "\n",
      "\n",
      "6 ) tweet -  \\@AmericanAir I fail to see how telling a caller that a bag may take \\\"\\\"18 hours\\\"\\\" to get from JFK to Brooklyn is \\\"\\\"the best we can\\\"\\\"\\\"\"\n",
      "prediction probability -  0.0\n",
      "\n",
      "\n",
      "******************************************************\n",
      "some test tweets that are classified incorreclty along with their prediction probabilities(LG):-\n",
      "\n",
      "7 ) tweet -  \\@AmericanAir TY! But\n",
      "prediction probability -  2.0\n",
      "\n",
      "\n",
      "11 ) tweet -  \\@AmericanAir You've misunderstood. @USAirways WOULD NOT do a same day flight change for me. The gate agent said\n",
      "prediction probability -  1.0\n",
      "\n",
      "\n",
      "12 ) tweet -  \\@AmericanAir You've misunderstood. @USAirways WOULD NOT do a same day flight change for me. The gate agent said\n",
      "prediction probability -  1.0\n",
      "\n",
      "\n",
      "19 ) tweet -  \\@AmericanAir you think I haven't tried that multiple times?? The \\\"\\\"status\\\"\\\" of my bag is that it should've been here YESTERDAY. So disgusted.\\\"\"\n",
      "prediction probability -  1.0\n",
      "\n",
      "\n",
      "20 ) tweet -  \\@JetBlue  Called JB 3 times!Everytime\n",
      "prediction probability -  2.0\n",
      "\n",
      "\n",
      "24 ) tweet -  \\@JetBlue I know\n",
      "prediction probability -  1.0\n",
      "\n",
      "\n",
      "******************************************************\n",
      "Correctly classified tweets sorted by probabilities are (LG):-\n",
      "\n",
      "1 ) tweet -  \\\\\"\\\"LOL you guys are so on it\\\"\\\" - me\"\n",
      "prediction probability -  2.0\n",
      "\n",
      "\n",
      "2 ) tweet -  \\@JetBlue thanks for getting me to Boston early for @TuftsEnergyConf \\\"\\\"Breaking Barriers To a Clean Energy Future\\\"\\\"\\\"\"\n",
      "prediction probability -  2.0\n",
      "\n",
      "\n",
      "3 ) tweet -  \\@SouthwestAir \\\"\\\"Airport snow removal method #22..\\\"\\\"\"\n",
      "prediction probability -  2.0\n",
      "\n",
      "\n",
      "4 ) tweet -  \\@SouthwestAir CEO Gary Kelly\n",
      "prediction probability -  2.0\n",
      "\n",
      "\n",
      "5 ) tweet -  \\@SouthwestAir thanks for the b day concert I watched them all (and noticed the fist bump/high five at the end of the \\\"\\\"rock\\\"\\\" version)\\\"\"\n",
      "prediction probability -  2.0\n",
      "\n",
      "\n",
      "******************************************************\n",
      "Incorrectly classified tweets sorted by probabilities are (LG):-\n",
      "1 ) tweet -  \\@AmericanAir TY! But\n",
      "prediction probability -  2.0\n",
      "\n",
      "\n",
      "2 ) tweet -  \\@JetBlue  Called JB 3 times!Everytime\n",
      "prediction probability -  2.0\n",
      "\n",
      "\n",
      "3 ) tweet -  \\@SouthwestAir RT @kkwhb: Paid for early bird boarding and got B46.  I said to lady\n",
      "prediction probability -  2.0\n",
      "\n",
      "\n",
      "4 ) tweet -  \\@USAirways @AmericanAir 90 min delay thanks to \\\"\\\"maintenance issues\\\"\\\". Thanks for wasting a day.\\\"\"\n",
      "prediction probability -  2.0\n",
      "\n",
      "\n",
      "5 ) tweet -  \\Stop the madness \\\"\\\"@JetBlue: Our fleet's on fleek. http://t.co/Q5a7jtkI5Kâ\\\"\"\n",
      "prediction probability -  2.0\n",
      "\n",
      "\n"
     ]
    }
   ],
   "source": [
    " \n",
    "print (\"Most accurate based on average 10-fold CV accuracy:-\\n\")\n",
    "\n",
    "if maxi==avg_NB_kfold:\n",
    "    print (\"NB is the most accurate Classifier\")\n",
    "    lpr= labels_and_preds_NB.map(lambda x:[x[\"predicted\"],x[\"actual\"]])\n",
    "    lpr_list=[]\n",
    "    for i in lpr.collect():\n",
    "        lpr_list.append(i)\n",
    "    print(\"******************************************************\")\n",
    "    print (\"some test tweets that are classified correctly along with their prediction labels(NB):-\\n\")\n",
    "    c=0\n",
    "    for i in range(0,len(lpr_list)):\n",
    "        if lpr_list[i][1]==lpr_list[i][0]:\n",
    "            print(i+1,\") tweet - \",test_tweet_list[i])\n",
    "            print(\"prediction label - \",lpr_list[i][0])\n",
    "            print(\"\\n\")\n",
    "            c=c+1\n",
    "            if c==6:\n",
    "                break\n",
    "    print(\"******************************************************\")\n",
    "    print (\"some test tweets that are classified incorrectly along with their prediction labels(NB):-\\n\")\n",
    "    c=0\n",
    "    for i in range(0,len(lpr_list)):\n",
    "        if lpr_list[i][1]!=lpr_list[i][0]:\n",
    "            print(i+1,\") tweet - \",test_tweet_list[i])\n",
    "            print(\"prediction label - \",lpr_list[i][0])\n",
    "            print(\"\\n\")\n",
    "            c=c+1\n",
    "            if c==6:\n",
    "                break\n",
    "    print(\"******************************************************\")\n",
    "    print (\"Correctly classified tweets (5)(NB):-\\n\\n\")\n",
    "    c=0\n",
    "    for i in range(0,len(lpr_list)):\n",
    "        if lpr_list[i][1]==lpr_list[i][0]:\n",
    "            print(i+1,\") tweet - \",test_tweet_list[i])\n",
    "            print(\"prediction label - \",lpr_list[i][0])\n",
    "            print(\"\\n\")\n",
    "            c=c+1\n",
    "            if c==5:\n",
    "                break\n",
    "    print(\"******************************************************\")\n",
    "    print (\"Incorrectly classified tweets (5)(NB):-\\n\\n\")\n",
    "    c=0\n",
    "    for i in range(0,len(lpr_list)):\n",
    "        if lpr_list[i][1]!=lpr_list[i][0]:\n",
    "            print(i+1,\") tweet - \",test_tweet_list[i])\n",
    "            print(\"prediction label - \",lpr_list[i][0])\n",
    "            print(\"\\n\")\n",
    "            c=c+1\n",
    "            if c==5:\n",
    "                break\n",
    "elif maxi==avg_LG_kfold:\n",
    "    print (\"LG is the most accurate Classifier\")\n",
    "    lp=labels_and_probs_LG.map(lambda x:[x[\"probs\"],x[\"actual\"]])\n",
    "    lp_list=[]\n",
    "    for i in lp.collect():\n",
    "        lp_list.append(i)\n",
    "    pred=labels_and_preds_LG.map(lambda x:x[\"predicted\"])\n",
    "    pred_list=[]\n",
    "    for i in pred.collect():\n",
    "        pred_list.append(i)\n",
    "    print(\"******************************************************\")\n",
    "    print (\"some test tweets that are classified correctly along with their prediction probabilities(LG):-\\n\")\n",
    "    c=0\n",
    "    for i in range(0,len(lp_list)):\n",
    "        if lp_list[i][1]==pred_list[i]:\n",
    "            print(i+1,\") tweet - \",test_tweet_list[i])\n",
    "            print(\"prediction probability - \",lp_list[i][0])\n",
    "            print(\"\\n\")\n",
    "            c=c+1\n",
    "            if c==6:\n",
    "                break\n",
    "    print(\"******************************************************\")\n",
    "    print (\"some test tweets that are classified incorreclty along with their prediction probabilities(LG):-\\n\")\n",
    "    c=0\n",
    "    for i in range(0,len(lp_list)):\n",
    "        if lp_list[i][1]!=pred_list[i]:\n",
    "            print(i+1,\") tweet - \",test_tweet_list[i])\n",
    "            print(\"prediction probability - \",lp_list[i][0])\n",
    "            print(\"\\n\")\n",
    "            c=c+1\n",
    "            if c==6:\n",
    "                break\n",
    "    corr_tw_lg=[]\n",
    "    incorr_tw_lg=[]\n",
    "    for i in range(0,len(lp_list)):\n",
    "        if lp_list[i][1]==pred_list[i]:\n",
    "            corr_tw_lg.append([lp_list[i][0],test_tweet_list[i]])\n",
    "    for i in range(0,len(lp_list)):\n",
    "        if lp_list[i][1]!=pred_list[i]:\n",
    "            incorr_tw_lg.append([lp_list[i][0],test_tweet_list[i]])\n",
    "    \n",
    "    corr_tw_lg=sorted(corr_tw_lg,key=lambda l:l[0], reverse=True)\n",
    "    incorr_tw_lg=sorted(incorr_tw_lg,key=lambda l:l[0], reverse=True)\n",
    "    \n",
    "    print(\"******************************************************\")\n",
    "    c=0\n",
    "    print(\"Correctly classified tweets sorted by probabilities are (LG):-\\n\")\n",
    "    for i in range(0,len(corr_tw_lg)):\n",
    "        print(i+1,\") tweet - \",corr_tw_lg[i][1])\n",
    "        print(\"prediction probability - \",corr_tw_lg[i][0])\n",
    "        print(\"\\n\")\n",
    "        c=c+1\n",
    "        if c==5:\n",
    "            break\n",
    "    print(\"******************************************************\")\n",
    "    c=0\n",
    "    print(\"Incorrectly classified tweets sorted by probabilities are (LG):-\")\n",
    "    for i in range(0,len(corr_tw_lg)):\n",
    "        print(i+1,\") tweet - \",incorr_tw_lg[i][1])\n",
    "        print (\"prediction probability - \",incorr_tw_lg[i][0])\n",
    "        print(\"\\n\")\n",
    "        c=c+1\n",
    "        if c==5:\n",
    "            break\n",
    "    \n",
    "elif maxi==avg_DT_kfold:\n",
    "    print (\"DT is the most accurate Classifier\")\n",
    "    lpr= labels_and_preds_DT.map(lambda x:[x[\"predicted\"],x[\"actual\"]])\n",
    "    lpr_list=[]\n",
    "    for i in lpr.collect():\n",
    "        lpr_list.append(i)\n",
    "    print(\"******************************************************\")\n",
    "    print (\"some test tweets that are classified correctly along with their prediction labels(DT):-\\n\")\n",
    "    c=0\n",
    "    for i in range(0,len(lpr_list)):\n",
    "        if lpr_list[i][1]==lpr_list[i][0]:\n",
    "            print(i+1,\") tweet - \",test_tweet_list[i])\n",
    "            print(\"prediction label - \",lpr_list[i][0])\n",
    "            print(\"\\n\")\n",
    "            c=c+1\n",
    "            if c==6:\n",
    "                break\n",
    "    print(\"******************************************************\")\n",
    "    print (\"some test tweets that are classified incorrectly along with their prediction labels(DT):-\\n\")\n",
    "    c=0\n",
    "    for i in range(0,len(lpr_list)):\n",
    "        if lpr_list[i][1]!=lpr_list[i][0]:\n",
    "            print(i+1,\") tweet - \",test_tweet_list[i])\n",
    "            print(\"prediction label - \",lpr_list[i][0])\n",
    "            print(\"\\n\")\n",
    "            c=c+1\n",
    "            if c==6:\n",
    "                break\n",
    "    print(\"******************************************************\")\n",
    "    print (\"Correctly classified tweets (5)(DT):-\\n\\n\")\n",
    "    c=0\n",
    "    for i in range(0,len(lpr_list)):\n",
    "        if lpr_list[i][1]==lpr_list[i][0]:\n",
    "            print(i+1,\") tweet - \",test_tweet_list[i])\n",
    "            print(\"prediction label - \",lpr_list[i][0])\n",
    "            print(\"\\n\")\n",
    "            c=c+1\n",
    "            if c==5:\n",
    "                break\n",
    "    print(\"******************************************************\")\n",
    "    print (\"Incorrectly classified tweets (5)(DT):-\\n\\n\")\n",
    "    c=0\n",
    "    for i in range(0,len(lpr_list)):\n",
    "        if lpr_list[i][1]!=lpr_list[i][0]:\n",
    "            print(i+1,\") tweet - \",test_tweet_list[i])\n",
    "            print(\"prediction label - \",lpr_list[i][0])\n",
    "            print(\"\\n\")\n",
    "            c=c+1\n",
    "            if c==5:\n",
    "                break\n",
    "    \n",
    "else:\n",
    "    print (\"Error Occured\")"
   ]
  },
  {
   "cell_type": "markdown",
   "metadata": {},
   "source": [
    "## What are some of the most informative features?\n",
    "- I made use of the ChiSqSelector which is an inbuilt function of mllib, but this function only returns hashed values"
   ]
  },
  {
   "cell_type": "code",
   "execution_count": 168,
   "metadata": {},
   "outputs": [
    {
     "name": "stdout",
     "output_type": "stream",
     "text": [
      "\n",
      "\n",
      "20 Most Informative Features for the label 0.0 Negative (According to ChiSqSelector)\n",
      "\n",
      "(20,[12],[1.0])\n",
      "(20,[],[])\n",
      "(20,[],[])\n",
      "(20,[],[])\n",
      "(20,[],[])\n",
      "(20,[9],[1.0])\n",
      "(20,[],[])\n",
      "(20,[],[])\n",
      "(20,[3],[1.0])\n",
      "(20,[9,12],[1.0,1.0])\n",
      "(20,[7,12,13],[1.0,1.0,1.0])\n",
      "(20,[6,12],[1.0,1.0])\n",
      "(20,[],[])\n",
      "(20,[18],[1.0])\n",
      "(20,[],[])\n",
      "(20,[3],[1.0])\n",
      "(20,[],[])\n",
      "(20,[0,2],[1.0,1.0])\n",
      "(20,[5],[1.0])\n",
      "(20,[6,12],[1.0,1.0])\n",
      "\n",
      "20 Most Informative Features for the label Neutral 1.0 (According to ChiSqSelector)\n",
      "\n",
      "(20,[5,12],[1.0,1.0])\n",
      "(20,[],[])\n",
      "(20,[9],[1.0])\n",
      "(20,[9],[1.0])\n",
      "(20,[5],[1.0])\n",
      "(20,[8,15],[1.0,1.0])\n",
      "(20,[5],[1.0])\n",
      "(20,[],[])\n",
      "(20,[5,8],[1.0,1.0])\n",
      "(20,[],[])\n",
      "(20,[5,17],[1.0,1.0])\n",
      "(20,[5,8],[1.0,1.0])\n",
      "(20,[],[])\n",
      "(20,[0,8],[1.0,1.0])\n",
      "(20,[],[])\n",
      "(20,[],[])\n",
      "(20,[0,12],[1.0,1.0])\n",
      "(20,[5],[1.0])\n",
      "(20,[12],[1.0])\n",
      "(20,[8],[1.0])\n",
      "\n",
      "20 Most Informative Features for the label Positive 2.0 (According to ChiSqSelector)\n",
      "\n",
      "(20,[9],[1.0])\n",
      "(20,[5],[1.0])\n",
      "(20,[5],[1.0])\n",
      "(20,[9,12],[1.0,1.0])\n",
      "(20,[6,9],[1.0,1.0])\n",
      "(20,[4,5],[1.0,1.0])\n",
      "(20,[12,16],[1.0,1.0])\n",
      "(20,[],[])\n",
      "(20,[12],[1.0])\n",
      "(20,[1,8],[1.0,1.0])\n",
      "(20,[17],[1.0])\n",
      "(20,[0,1],[1.0,1.0])\n",
      "(20,[5],[1.0])\n",
      "(20,[],[])\n",
      "(20,[8,15],[1.0,1.0])\n",
      "(20,[5],[1.0])\n",
      "(20,[0],[1.0])\n",
      "(20,[],[])\n",
      "(20,[1,5],[1.0,1.0])\n",
      "(20,[5,17],[1.0,1.0])\n"
     ]
    }
   ],
   "source": [
    "training_chi = Convert_to_LabeledPoint(sc.parallelize([row[0] for row in tshuff_rdd_train.collect()]),tf_train)\n",
    "selector = ChiSqSelector(20)\n",
    "transformer = selector.fit(training_chi)\n",
    "filteredData = (sc.parallelize([row[0] for row in tshuff_rdd_train.collect()])).zip(transformer.transform(tf_train)).map(lambda x: LabeledPoint(x[0], x[1]))\n",
    "print (\"\\n\\n20 Most Informative Features for the label 0.0 Negative (According to ChiSqSelector)\\n\")\n",
    "c=0\n",
    "for i in filteredData.collect():\n",
    "    if i.label==0.0:\n",
    "        print (i.features)\n",
    "        c=c+1\n",
    "    if c==20:\n",
    "        break                  \n",
    "print (\"\\n20 Most Informative Features for the label Neutral 1.0 (According to ChiSqSelector)\\n\")\n",
    "c=0\n",
    "for i in filteredData.collect():\n",
    "    if i.label==1.0:\n",
    "        print (i.features)\n",
    "        c=c+1\n",
    "    if c==20:\n",
    "        break\n",
    "print (\"\\n20 Most Informative Features for the label Positive 2.0 (According to ChiSqSelector)\\n\")\n",
    "c=0\n",
    "for i in filteredData.collect():\n",
    "    if i.label==2.0:\n",
    "        print (i.features)\n",
    "        c=c+1\n",
    "    if c==20:\n",
    "        break  "
   ]
  },
  {
   "cell_type": "code",
   "execution_count": 169,
   "metadata": {},
   "outputs": [
    {
     "name": "stdout",
     "output_type": "stream",
     "text": [
      "\n",
      "\n",
      "Top 30 most informative features(On the labels ie. 0, 1 and 2):-\n",
      "\n",
      "-------------------------\n",
      "1 )  united\n",
      "2 )  flight\n",
      "3 )  USAirways\n",
      "4 )  AmericanAir\n",
      "5 )  SouthwestAir\n",
      "6 )  AT_USER\n",
      "7 )  JetBlue\n",
      "8 )  get\n",
      "9 )  URL\n",
      "10 )  cancelled\n",
      "11 )  thanks\n",
      "12 )  service\n",
      "13 )  help\n",
      "14 )  customer\n",
      "15 )  time\n",
      "16 )  i'm\n",
      "17 )  hours\n",
      "18 )  amp\n",
      "19 )  plane\n",
      "20 )  hold\n",
      "21 )  us\n",
      "22 )  flights\n",
      "23 )  thank\n",
      "24 )  please\n",
      "25 )  delayed\n",
      "26 )  one\n",
      "27 )  gate\n",
      "28 )  still\n",
      "29 )  would\n",
      "30 )  need\n",
      "-------------------------\n"
     ]
    }
   ],
   "source": [
    "print (\"\\n\\nTop 30 most informative features(On the labels ie. 0, 1 and 2):-\\n\")\n",
    "temp={}\n",
    "c=0\n",
    "for i in range(0,len(train_shuffle)):\n",
    "    for j in range(0,len(train_shuffle[i][1])):\n",
    "        if train_shuffle[i][1][j] in temp:\n",
    "            if train_shuffle[i][0]=='1'or '2' or '0':\n",
    "                temp[train_shuffle[i][1][j]][0]=temp[train_shuffle[i][1][j]][0]+1\n",
    "                temp[train_shuffle[i][1][j]][1]=temp[train_shuffle[i][1][j]][1]+1\n",
    "        else:\n",
    "            if train_shuffle[i][0]=='1': \n",
    "                temp[train_shuffle[i][1][j]]=[1,1,0]\n",
    "            elif train_shuffle[i][0]=='0':\n",
    "                temp[train_shuffle[i][1][j]]=[1,0,1]\n",
    "            elif train_shuffle[i][0]=='2':\n",
    "                temp[train_shuffle[i][1][j]]=[0,0,1]\n",
    "temp2=[]\n",
    "for k in temp:\n",
    "    temp2.append([k,((0.33*temp[k][0])+(0.33*temp[k][1])+(0.33*temp[k][2]))])\n",
    "temp2=sorted(temp2,key=lambda l:l[1], reverse=True)\n",
    "c=0\n",
    "print (\"-------------------------\")\n",
    "for i in range(0,len(temp2)):\n",
    "    print (i+1,\") \",temp2[i][0])\n",
    "    c=c+1\n",
    "    if c==30:\n",
    "        break\n",
    "print (\"-------------------------\")"
   ]
  },
  {
   "cell_type": "markdown",
   "metadata": {},
   "source": [
    "## How scalable is my project?"
   ]
  },
  {
   "cell_type": "markdown",
   "metadata": {},
   "source": [
    "#### Machine Learning library (MLlib)\n",
    "- This is formed by common learning algorithms and statistic utilities. Among its main functionalities includes: classification, regression, clustering, collaborative filtering, optimization, and dimensionality reduction. \n",
    "\n",
    "- This library has been especially designed to simplify ML pipelines in large-scale environments. In the latest versions of Spark, the MLlib library has been divided into two packages, MLlib, build on top of RDDs, and ML, build on top of DataFrames for constructing pipelines.\n",
    "\n",
    "- The Project is based on distributed data structures called Resilient Distributed Datasets (RDDs).\n",
    "    - Operations on RDDs automatically place tasks into partitions, maintaining the locality of persisted data. \n",
    "    - Beyond this, RDDs are an immutable and versatile tool that let programmers persist intermediate results into memory or disk for re-usability purposes, and customize the partitioning to optimize data placement. \n",
    "    - RDDs are also fault-tolerant by nature. "
   ]
  },
  {
   "cell_type": "code",
   "execution_count": 170,
   "metadata": {},
   "outputs": [
    {
     "data": {
      "image/png": "[encoded data removed]",
      "text/plain": [
       "<Figure size 640x480 with 1 Axes>"
      ]
     },
     "metadata": {},
     "output_type": "display_data"
    }
   ],
   "source": [
    "# importing the required module \n",
    "import matplotlib.pyplot as plt \n",
    "from scipy.interpolate import make_interp_spline, BSpline\n",
    "\n",
    "T = np.array([10, 20, 30, 40,100])\n",
    "power = np.array([81,105,120,128,150])\n",
    "\n",
    "# 300 represents number of points to make between T.min and T.max\n",
    "xnew = np.linspace(T.min(), T.max(), 300) \n",
    "\n",
    "spl = make_interp_spline(T, power, k=2)  # type: BSpline\n",
    "power_smooth = spl(xnew)\n",
    "\n",
    "#plt.plot(T,power)\n",
    "plt.plot(xnew, power_smooth)\n",
    "# naming the x axis \n",
    "plt.xlabel('Perecent of data used') \n",
    "# naming the y axis \n",
    "plt.ylabel('Time Taken in seconds') \n",
    "  \n",
    "# giving a title to my graph \n",
    "plt.title('Perecent of data for LR vs Time Taken for analysis') \n",
    "  \n",
    "# function to show the plot \n",
    "plt.show()"
   ]
  }
 ],
 "metadata": {
  "kernelspec": {
   "display_name": "Python 3",
   "language": "python",
   "name": "python3"
  },
  "language_info": {
   "codemirror_mode": {
    "name": "ipython",
    "version": 3
   },
   "file_extension": ".py",
   "mimetype": "text/x-python",
   "name": "python",
   "nbconvert_exporter": "python",
   "pygments_lexer": "ipython3",
   "version": "3.7.6"
  }
 },
 "nbformat": 4,
 "nbformat_minor": 4
}
